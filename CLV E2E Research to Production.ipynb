{
 "cells": [
  {
   "cell_type": "markdown",
   "metadata": {},
   "source": [
    "# 2. Data Understanding"
   ]
  },
  {
   "cell_type": "code",
   "execution_count": 1,
   "metadata": {},
   "outputs": [],
   "source": [
    "import pandas as pd\n",
    "import numpy as np\n",
    "from sklearn import preprocessing\n",
    "import matplotlib.pyplot as plt \n",
    "plt.rc(\"font\", size=14)\n",
    "from sklearn.linear_model import LogisticRegression\n",
    "from sklearn.model_selection import train_test_split\n",
    "import seaborn as sns\n",
    "sns.set(style=\"white\")\n",
    "sns.set(style=\"whitegrid\", color_codes=True)"
   ]
  },
  {
   "cell_type": "code",
   "execution_count": 2,
   "metadata": {},
   "outputs": [
    {
     "name": "stdout",
     "output_type": "stream",
     "text": [
      "(495478, 7)\n",
      "['CustomerID', 'InvoiceNo', 'InvoiceDate', 'StockCode', 'Description', 'Quantity', 'UnitPrice']\n"
     ]
    }
   ],
   "source": [
    "df = pd.read_csv('company.csv')\n",
    "print(df.shape)\n",
    "print(list(df.columns))"
   ]
  },
  {
   "cell_type": "code",
   "execution_count": 3,
   "metadata": {},
   "outputs": [
    {
     "data": {
      "text/html": [
       "<div>\n",
       "<style scoped>\n",
       "    .dataframe tbody tr th:only-of-type {\n",
       "        vertical-align: middle;\n",
       "    }\n",
       "\n",
       "    .dataframe tbody tr th {\n",
       "        vertical-align: top;\n",
       "    }\n",
       "\n",
       "    .dataframe thead th {\n",
       "        text-align: right;\n",
       "    }\n",
       "</style>\n",
       "<table border=\"1\" class=\"dataframe\">\n",
       "  <thead>\n",
       "    <tr style=\"text-align: right;\">\n",
       "      <th></th>\n",
       "      <th>CustomerID</th>\n",
       "      <th>InvoiceNo</th>\n",
       "      <th>InvoiceDate</th>\n",
       "      <th>StockCode</th>\n",
       "      <th>Description</th>\n",
       "      <th>Quantity</th>\n",
       "      <th>UnitPrice</th>\n",
       "    </tr>\n",
       "  </thead>\n",
       "  <tbody>\n",
       "    <tr>\n",
       "      <th>0</th>\n",
       "      <td>17850.0</td>\n",
       "      <td>536365</td>\n",
       "      <td>25/09/2020</td>\n",
       "      <td>85123A</td>\n",
       "      <td>WHITE HANGING HEART T-LIGHT HOLDER</td>\n",
       "      <td>6</td>\n",
       "      <td>8.415</td>\n",
       "    </tr>\n",
       "    <tr>\n",
       "      <th>1</th>\n",
       "      <td>17850.0</td>\n",
       "      <td>536365</td>\n",
       "      <td>25/09/2020</td>\n",
       "      <td>71053</td>\n",
       "      <td>WHITE METAL LANTERN</td>\n",
       "      <td>6</td>\n",
       "      <td>11.187</td>\n",
       "    </tr>\n",
       "    <tr>\n",
       "      <th>2</th>\n",
       "      <td>17850.0</td>\n",
       "      <td>536365</td>\n",
       "      <td>25/09/2020</td>\n",
       "      <td>84406B</td>\n",
       "      <td>CREAM CUPID HEARTS COAT HANGER</td>\n",
       "      <td>8</td>\n",
       "      <td>9.075</td>\n",
       "    </tr>\n",
       "    <tr>\n",
       "      <th>3</th>\n",
       "      <td>17850.0</td>\n",
       "      <td>536365</td>\n",
       "      <td>25/09/2020</td>\n",
       "      <td>84029G</td>\n",
       "      <td>KNITTED UNION FLAG HOT WATER BOTTLE</td>\n",
       "      <td>6</td>\n",
       "      <td>11.187</td>\n",
       "    </tr>\n",
       "    <tr>\n",
       "      <th>4</th>\n",
       "      <td>17850.0</td>\n",
       "      <td>536365</td>\n",
       "      <td>25/09/2020</td>\n",
       "      <td>84029E</td>\n",
       "      <td>RED WOOLLY HOTTIE WHITE HEART.</td>\n",
       "      <td>6</td>\n",
       "      <td>11.187</td>\n",
       "    </tr>\n",
       "  </tbody>\n",
       "</table>\n",
       "</div>"
      ],
      "text/plain": [
       "   CustomerID InvoiceNo InvoiceDate StockCode  \\\n",
       "0     17850.0    536365  25/09/2020    85123A   \n",
       "1     17850.0    536365  25/09/2020     71053   \n",
       "2     17850.0    536365  25/09/2020    84406B   \n",
       "3     17850.0    536365  25/09/2020    84029G   \n",
       "4     17850.0    536365  25/09/2020    84029E   \n",
       "\n",
       "                           Description  Quantity  UnitPrice  \n",
       "0   WHITE HANGING HEART T-LIGHT HOLDER         6      8.415  \n",
       "1                  WHITE METAL LANTERN         6     11.187  \n",
       "2       CREAM CUPID HEARTS COAT HANGER         8      9.075  \n",
       "3  KNITTED UNION FLAG HOT WATER BOTTLE         6     11.187  \n",
       "4       RED WOOLLY HOTTIE WHITE HEART.         6     11.187  "
      ]
     },
     "execution_count": 3,
     "metadata": {},
     "output_type": "execute_result"
    }
   ],
   "source": [
    "df.head()"
   ]
  },
  {
   "cell_type": "code",
   "execution_count": 4,
   "metadata": {},
   "outputs": [
    {
     "data": {
      "text/html": [
       "<div>\n",
       "<style scoped>\n",
       "    .dataframe tbody tr th:only-of-type {\n",
       "        vertical-align: middle;\n",
       "    }\n",
       "\n",
       "    .dataframe tbody tr th {\n",
       "        vertical-align: top;\n",
       "    }\n",
       "\n",
       "    .dataframe thead th {\n",
       "        text-align: right;\n",
       "    }\n",
       "</style>\n",
       "<table border=\"1\" class=\"dataframe\">\n",
       "  <thead>\n",
       "    <tr style=\"text-align: right;\">\n",
       "      <th></th>\n",
       "      <th>CustomerID</th>\n",
       "      <th>InvoiceNo</th>\n",
       "      <th>InvoiceDate</th>\n",
       "      <th>StockCode</th>\n",
       "      <th>Description</th>\n",
       "      <th>Quantity</th>\n",
       "      <th>UnitPrice</th>\n",
       "    </tr>\n",
       "  </thead>\n",
       "  <tbody>\n",
       "    <tr>\n",
       "      <th>495473</th>\n",
       "      <td>15804.0</td>\n",
       "      <td>581585</td>\n",
       "      <td>03/10/2021</td>\n",
       "      <td>22466</td>\n",
       "      <td>FAIRY TALE COTTAGE NIGHT LIGHT</td>\n",
       "      <td>12</td>\n",
       "      <td>6.435</td>\n",
       "    </tr>\n",
       "    <tr>\n",
       "      <th>495474</th>\n",
       "      <td>13113.0</td>\n",
       "      <td>581586</td>\n",
       "      <td>04/10/2021</td>\n",
       "      <td>22061</td>\n",
       "      <td>LARGE CAKE STAND  HANGING STRAWBERY</td>\n",
       "      <td>8</td>\n",
       "      <td>9.735</td>\n",
       "    </tr>\n",
       "    <tr>\n",
       "      <th>495475</th>\n",
       "      <td>13113.0</td>\n",
       "      <td>581586</td>\n",
       "      <td>04/10/2021</td>\n",
       "      <td>23275</td>\n",
       "      <td>SET OF 3 HANGING OWLS OLLIE BEAK</td>\n",
       "      <td>24</td>\n",
       "      <td>4.125</td>\n",
       "    </tr>\n",
       "    <tr>\n",
       "      <th>495476</th>\n",
       "      <td>13113.0</td>\n",
       "      <td>581586</td>\n",
       "      <td>04/10/2021</td>\n",
       "      <td>21217</td>\n",
       "      <td>RED RETROSPOT ROUND CAKE TINS</td>\n",
       "      <td>24</td>\n",
       "      <td>29.535</td>\n",
       "    </tr>\n",
       "    <tr>\n",
       "      <th>495477</th>\n",
       "      <td>13113.0</td>\n",
       "      <td>581586</td>\n",
       "      <td>04/10/2021</td>\n",
       "      <td>20685</td>\n",
       "      <td>DOORMAT RED RETROSPOT</td>\n",
       "      <td>10</td>\n",
       "      <td>23.364</td>\n",
       "    </tr>\n",
       "  </tbody>\n",
       "</table>\n",
       "</div>"
      ],
      "text/plain": [
       "        CustomerID InvoiceNo InvoiceDate StockCode  \\\n",
       "495473     15804.0    581585  03/10/2021     22466   \n",
       "495474     13113.0    581586  04/10/2021     22061   \n",
       "495475     13113.0    581586  04/10/2021     23275   \n",
       "495476     13113.0    581586  04/10/2021     21217   \n",
       "495477     13113.0    581586  04/10/2021     20685   \n",
       "\n",
       "                                Description  Quantity  UnitPrice  \n",
       "495473       FAIRY TALE COTTAGE NIGHT LIGHT        12      6.435  \n",
       "495474  LARGE CAKE STAND  HANGING STRAWBERY         8      9.735  \n",
       "495475     SET OF 3 HANGING OWLS OLLIE BEAK        24      4.125  \n",
       "495476        RED RETROSPOT ROUND CAKE TINS        24     29.535  \n",
       "495477                DOORMAT RED RETROSPOT        10     23.364  "
      ]
     },
     "execution_count": 4,
     "metadata": {},
     "output_type": "execute_result"
    }
   ],
   "source": [
    "df.tail()"
   ]
  },
  {
   "cell_type": "code",
   "execution_count": 5,
   "metadata": {},
   "outputs": [
    {
     "name": "stdout",
     "output_type": "stream",
     "text": [
      "<class 'pandas.core.frame.DataFrame'>\n",
      "RangeIndex: 495478 entries, 0 to 495477\n",
      "Data columns (total 7 columns):\n",
      " #   Column       Non-Null Count   Dtype  \n",
      "---  ------       --------------   -----  \n",
      " 0   CustomerID   361878 non-null  float64\n",
      " 1   InvoiceNo    495478 non-null  object \n",
      " 2   InvoiceDate  495478 non-null  object \n",
      " 3   StockCode    495478 non-null  object \n",
      " 4   Description  494024 non-null  object \n",
      " 5   Quantity     495478 non-null  int64  \n",
      " 6   UnitPrice    495478 non-null  float64\n",
      "dtypes: float64(2), int64(1), object(4)\n",
      "memory usage: 26.5+ MB\n"
     ]
    }
   ],
   "source": [
    "df.info()"
   ]
  },
  {
   "cell_type": "code",
   "execution_count": 6,
   "metadata": {},
   "outputs": [
    {
     "data": {
      "text/plain": [
       "CustomerID     133600\n",
       "InvoiceNo           0\n",
       "InvoiceDate         0\n",
       "StockCode           0\n",
       "Description      1454\n",
       "Quantity            0\n",
       "UnitPrice           0\n",
       "dtype: int64"
      ]
     },
     "execution_count": 6,
     "metadata": {},
     "output_type": "execute_result"
    }
   ],
   "source": [
    "df.isna().sum()"
   ]
  },
  {
   "cell_type": "code",
   "execution_count": 7,
   "metadata": {},
   "outputs": [
    {
     "data": {
      "text/html": [
       "<div>\n",
       "<style scoped>\n",
       "    .dataframe tbody tr th:only-of-type {\n",
       "        vertical-align: middle;\n",
       "    }\n",
       "\n",
       "    .dataframe tbody tr th {\n",
       "        vertical-align: top;\n",
       "    }\n",
       "\n",
       "    .dataframe thead th {\n",
       "        text-align: right;\n",
       "    }\n",
       "</style>\n",
       "<table border=\"1\" class=\"dataframe\">\n",
       "  <thead>\n",
       "    <tr style=\"text-align: right;\">\n",
       "      <th></th>\n",
       "      <th>CustomerID</th>\n",
       "      <th>Quantity</th>\n",
       "      <th>UnitPrice</th>\n",
       "    </tr>\n",
       "  </thead>\n",
       "  <tbody>\n",
       "    <tr>\n",
       "      <th>count</th>\n",
       "      <td>361878.000000</td>\n",
       "      <td>495478.000000</td>\n",
       "      <td>495478.000000</td>\n",
       "    </tr>\n",
       "    <tr>\n",
       "      <th>mean</th>\n",
       "      <td>15547.871368</td>\n",
       "      <td>8.605486</td>\n",
       "      <td>14.956993</td>\n",
       "    </tr>\n",
       "    <tr>\n",
       "      <th>std</th>\n",
       "      <td>1594.402590</td>\n",
       "      <td>227.588756</td>\n",
       "      <td>327.740946</td>\n",
       "    </tr>\n",
       "    <tr>\n",
       "      <th>min</th>\n",
       "      <td>12346.000000</td>\n",
       "      <td>-80995.000000</td>\n",
       "      <td>-36504.798000</td>\n",
       "    </tr>\n",
       "    <tr>\n",
       "      <th>25%</th>\n",
       "      <td>14194.000000</td>\n",
       "      <td>1.000000</td>\n",
       "      <td>4.125000</td>\n",
       "    </tr>\n",
       "    <tr>\n",
       "      <th>50%</th>\n",
       "      <td>15514.000000</td>\n",
       "      <td>3.000000</td>\n",
       "      <td>6.930000</td>\n",
       "    </tr>\n",
       "    <tr>\n",
       "      <th>75%</th>\n",
       "      <td>16931.000000</td>\n",
       "      <td>10.000000</td>\n",
       "      <td>13.629000</td>\n",
       "    </tr>\n",
       "    <tr>\n",
       "      <th>max</th>\n",
       "      <td>18287.000000</td>\n",
       "      <td>80995.000000</td>\n",
       "      <td>128601.000000</td>\n",
       "    </tr>\n",
       "  </tbody>\n",
       "</table>\n",
       "</div>"
      ],
      "text/plain": [
       "          CustomerID       Quantity      UnitPrice\n",
       "count  361878.000000  495478.000000  495478.000000\n",
       "mean    15547.871368       8.605486      14.956993\n",
       "std      1594.402590     227.588756     327.740946\n",
       "min     12346.000000  -80995.000000  -36504.798000\n",
       "25%     14194.000000       1.000000       4.125000\n",
       "50%     15514.000000       3.000000       6.930000\n",
       "75%     16931.000000      10.000000      13.629000\n",
       "max     18287.000000   80995.000000  128601.000000"
      ]
     },
     "execution_count": 7,
     "metadata": {},
     "output_type": "execute_result"
    }
   ],
   "source": [
    "df.describe()"
   ]
  },
  {
   "cell_type": "code",
   "execution_count": 8,
   "metadata": {},
   "outputs": [
    {
     "data": {
      "image/png": "[encoded data removed]",
      "text/plain": [
       "<Figure size 1440x1080 with 4 Axes>"
      ]
     },
     "metadata": {
      "needs_background": "light"
     },
     "output_type": "display_data"
    }
   ],
   "source": [
    "%matplotlib inline\n",
    "import matplotlib.pyplot as plt\n",
    "df.hist(bins=50, figsize=(20,15))\n",
    "plt.savefig(\"attribute_histogram_plots\")\n",
    "plt.show()"
   ]
  },
  {
   "cell_type": "code",
   "execution_count": 9,
   "metadata": {},
   "outputs": [
    {
     "data": {
      "text/plain": [
       "count    495478.000000\n",
       "mean          8.605486\n",
       "std         227.588756\n",
       "min      -80995.000000\n",
       "25%           1.000000\n",
       "50%           3.000000\n",
       "75%          10.000000\n",
       "max       80995.000000\n",
       "Name: Quantity, dtype: float64"
      ]
     },
     "execution_count": 9,
     "metadata": {},
     "output_type": "execute_result"
    }
   ],
   "source": [
    "df['Quantity'].describe()"
   ]
  },
  {
   "cell_type": "code",
   "execution_count": 10,
   "metadata": {},
   "outputs": [
    {
     "data": {
      "text/plain": [
       "(array([2.000e+00, 0.000e+00, 0.000e+00, 0.000e+00, 0.000e+00, 0.000e+00,\n",
       "        0.000e+00, 0.000e+00, 4.000e+00, 9.186e+03]),\n",
       " array([-8.09950e+04, -7.28956e+04, -6.47962e+04, -5.66968e+04,\n",
       "        -4.85974e+04, -4.04980e+04, -3.23986e+04, -2.42992e+04,\n",
       "        -1.61998e+04, -8.10040e+03, -1.00000e+00]),\n",
       " <BarContainer object of 10 artists>)"
      ]
     },
     "execution_count": 10,
     "metadata": {},
     "output_type": "execute_result"
    },
    {
     "data": {
      "image/png": "[encoded data removed]",
      "text/plain": [
       "<Figure size 432x288 with 1 Axes>"
      ]
     },
     "metadata": {
      "needs_background": "light"
     },
     "output_type": "display_data"
    }
   ],
   "source": [
    "plt.hist(df['Quantity'][df['Quantity']<0])"
   ]
  },
  {
   "cell_type": "code",
   "execution_count": 11,
   "metadata": {},
   "outputs": [
    {
     "data": {
      "text/plain": [
       "count    495478.000000\n",
       "mean         14.956993\n",
       "std         327.740946\n",
       "min      -36504.798000\n",
       "25%           4.125000\n",
       "50%           6.930000\n",
       "75%          13.629000\n",
       "max      128601.000000\n",
       "Name: UnitPrice, dtype: float64"
      ]
     },
     "execution_count": 11,
     "metadata": {},
     "output_type": "execute_result"
    }
   ],
   "source": [
    "df['UnitPrice'].describe()"
   ]
  },
  {
   "cell_type": "code",
   "execution_count": 12,
   "metadata": {},
   "outputs": [
    {
     "data": {
      "text/plain": [
       "(array([0., 0., 0., 0., 0., 2., 0., 0., 0., 0.]),\n",
       " array([-36505.298, -36505.198, -36505.098, -36504.998, -36504.898,\n",
       "        -36504.798, -36504.698, -36504.598, -36504.498, -36504.398,\n",
       "        -36504.298]),\n",
       " <BarContainer object of 10 artists>)"
      ]
     },
     "execution_count": 12,
     "metadata": {},
     "output_type": "execute_result"
    },
    {
     "data": {
      "image/png": "[encoded data removed]",
      "text/plain": [
       "<Figure size 432x288 with 1 Axes>"
      ]
     },
     "metadata": {
      "needs_background": "light"
     },
     "output_type": "display_data"
    }
   ],
   "source": [
    "plt.hist(df['UnitPrice'][df['UnitPrice']<0])"
   ]
  },
  {
   "cell_type": "code",
   "execution_count": 13,
   "metadata": {},
   "outputs": [
    {
     "data": {
      "text/html": [
       "<div>\n",
       "<style scoped>\n",
       "    .dataframe tbody tr th:only-of-type {\n",
       "        vertical-align: middle;\n",
       "    }\n",
       "\n",
       "    .dataframe tbody tr th {\n",
       "        vertical-align: top;\n",
       "    }\n",
       "\n",
       "    .dataframe thead th {\n",
       "        text-align: right;\n",
       "    }\n",
       "</style>\n",
       "<table border=\"1\" class=\"dataframe\">\n",
       "  <thead>\n",
       "    <tr style=\"text-align: right;\">\n",
       "      <th></th>\n",
       "      <th>CustomerID</th>\n",
       "      <th>Quantity</th>\n",
       "      <th>UnitPrice</th>\n",
       "    </tr>\n",
       "  </thead>\n",
       "  <tbody>\n",
       "    <tr>\n",
       "      <th>CustomerID</th>\n",
       "      <td>1.000000</td>\n",
       "      <td>-0.000844</td>\n",
       "      <td>-0.000828</td>\n",
       "    </tr>\n",
       "    <tr>\n",
       "      <th>Quantity</th>\n",
       "      <td>-0.000844</td>\n",
       "      <td>1.000000</td>\n",
       "      <td>-0.000994</td>\n",
       "    </tr>\n",
       "    <tr>\n",
       "      <th>UnitPrice</th>\n",
       "      <td>-0.000828</td>\n",
       "      <td>-0.000994</td>\n",
       "      <td>1.000000</td>\n",
       "    </tr>\n",
       "  </tbody>\n",
       "</table>\n",
       "</div>"
      ],
      "text/plain": [
       "            CustomerID  Quantity  UnitPrice\n",
       "CustomerID    1.000000 -0.000844  -0.000828\n",
       "Quantity     -0.000844  1.000000  -0.000994\n",
       "UnitPrice    -0.000828 -0.000994   1.000000"
      ]
     },
     "execution_count": 13,
     "metadata": {},
     "output_type": "execute_result"
    }
   ],
   "source": [
    "# find out correlation between params\n",
    "df.corr()"
   ]
  },
  {
   "cell_type": "code",
   "execution_count": 14,
   "metadata": {},
   "outputs": [
    {
     "data": {
      "text/plain": [
       "<AxesSubplot:>"
      ]
     },
     "execution_count": 14,
     "metadata": {},
     "output_type": "execute_result"
    },
    {
     "data": {
      "image/png": "[encoded data removed]",
      "text/plain": [
       "<Figure size 432x288 with 2 Axes>"
      ]
     },
     "metadata": {
      "needs_background": "light"
     },
     "output_type": "display_data"
    }
   ],
   "source": [
    "sns.heatmap(df.corr(),annot=True)"
   ]
  },
  {
   "cell_type": "markdown",
   "metadata": {},
   "source": [
    "# 3. Data Preparation"
   ]
  },
  {
   "cell_type": "code",
   "execution_count": 15,
   "metadata": {},
   "outputs": [
    {
     "name": "stdout",
     "output_type": "stream",
     "text": [
      "<class 'pandas.core.frame.DataFrame'>\n",
      "RangeIndex: 495478 entries, 0 to 495477\n",
      "Data columns (total 7 columns):\n",
      " #   Column       Non-Null Count   Dtype  \n",
      "---  ------       --------------   -----  \n",
      " 0   CustomerID   361878 non-null  float64\n",
      " 1   InvoiceNo    495478 non-null  object \n",
      " 2   InvoiceDate  495478 non-null  object \n",
      " 3   StockCode    495478 non-null  object \n",
      " 4   Description  494024 non-null  object \n",
      " 5   Quantity     495478 non-null  int64  \n",
      " 6   UnitPrice    495478 non-null  float64\n",
      "dtypes: float64(2), int64(1), object(4)\n",
      "memory usage: 26.5+ MB\n"
     ]
    }
   ],
   "source": [
    "df2 = df.copy()\n",
    "df2.info()"
   ]
  },
  {
   "cell_type": "code",
   "execution_count": 16,
   "metadata": {},
   "outputs": [
    {
     "name": "stdout",
     "output_type": "stream",
     "text": [
      "<class 'pandas.core.frame.DataFrame'>\n",
      "Int64Index: 361878 entries, 0 to 495477\n",
      "Data columns (total 7 columns):\n",
      " #   Column       Non-Null Count   Dtype  \n",
      "---  ------       --------------   -----  \n",
      " 0   CustomerID   361878 non-null  float64\n",
      " 1   InvoiceNo    361878 non-null  object \n",
      " 2   InvoiceDate  361878 non-null  object \n",
      " 3   StockCode    361878 non-null  object \n",
      " 4   Description  361878 non-null  object \n",
      " 5   Quantity     361878 non-null  int64  \n",
      " 6   UnitPrice    361878 non-null  float64\n",
      "dtypes: float64(2), int64(1), object(4)\n",
      "memory usage: 22.1+ MB\n"
     ]
    }
   ],
   "source": [
    "df2 = df2.dropna()\n",
    "df2.info()"
   ]
  },
  {
   "cell_type": "code",
   "execution_count": 17,
   "metadata": {},
   "outputs": [
    {
     "data": {
      "text/plain": [
       "count    354345.000000\n",
       "mean         12.048913\n",
       "std         190.428127\n",
       "min           1.000000\n",
       "25%           2.000000\n",
       "50%           4.000000\n",
       "75%          12.000000\n",
       "max       80995.000000\n",
       "Name: Quantity, dtype: float64"
      ]
     },
     "execution_count": 17,
     "metadata": {},
     "output_type": "execute_result"
    }
   ],
   "source": [
    "df2['Quantity'][df2['Quantity']<=0] = None\n",
    "df2['Quantity'].describe()"
   ]
  },
  {
   "cell_type": "code",
   "execution_count": 18,
   "metadata": {},
   "outputs": [
    {
     "data": {
      "text/plain": [
       "(array([0., 0., 0., 0., 0., 0., 0., 0., 0., 0.]),\n",
       " array([0. , 0.1, 0.2, 0.3, 0.4, 0.5, 0.6, 0.7, 0.8, 0.9, 1. ]),\n",
       " <BarContainer object of 10 artists>)"
      ]
     },
     "execution_count": 18,
     "metadata": {},
     "output_type": "execute_result"
    },
    {
     "data": {
      "image/png": "[encoded data removed]",
      "text/plain": [
       "<Figure size 432x288 with 1 Axes>"
      ]
     },
     "metadata": {
      "needs_background": "light"
     },
     "output_type": "display_data"
    }
   ],
   "source": [
    "plt.hist(df2['Quantity'][df2['Quantity']<=0])"
   ]
  },
  {
   "cell_type": "code",
   "execution_count": 19,
   "metadata": {},
   "outputs": [
    {
     "data": {
      "text/plain": [
       "count    361854.000000\n",
       "mean         10.745535\n",
       "std         233.168329\n",
       "min           0.003300\n",
       "25%           4.125000\n",
       "50%           6.435000\n",
       "75%          12.375000\n",
       "max      128601.000000\n",
       "Name: UnitPrice, dtype: float64"
      ]
     },
     "execution_count": 19,
     "metadata": {},
     "output_type": "execute_result"
    }
   ],
   "source": [
    "df2['UnitPrice'][df2['UnitPrice']<=0] = None\n",
    "df2['UnitPrice'].describe()"
   ]
  },
  {
   "cell_type": "code",
   "execution_count": 20,
   "metadata": {},
   "outputs": [
    {
     "data": {
      "text/plain": [
       "(array([0., 0., 0., 0., 0., 0., 0., 0., 0., 0.]),\n",
       " array([0. , 0.1, 0.2, 0.3, 0.4, 0.5, 0.6, 0.7, 0.8, 0.9, 1. ]),\n",
       " <BarContainer object of 10 artists>)"
      ]
     },
     "execution_count": 20,
     "metadata": {},
     "output_type": "execute_result"
    },
    {
     "data": {
      "image/png": "[encoded data removed]",
      "text/plain": [
       "<Figure size 432x288 with 1 Axes>"
      ]
     },
     "metadata": {
      "needs_background": "light"
     },
     "output_type": "display_data"
    }
   ],
   "source": [
    "plt.hist(df2['UnitPrice'][df2['UnitPrice']<=0])"
   ]
  },
  {
   "cell_type": "code",
   "execution_count": 21,
   "metadata": {},
   "outputs": [
    {
     "name": "stdout",
     "output_type": "stream",
     "text": [
      "<class 'pandas.core.frame.DataFrame'>\n",
      "Int64Index: 354321 entries, 0 to 495477\n",
      "Data columns (total 7 columns):\n",
      " #   Column       Non-Null Count   Dtype  \n",
      "---  ------       --------------   -----  \n",
      " 0   CustomerID   354321 non-null  float64\n",
      " 1   InvoiceNo    354321 non-null  object \n",
      " 2   InvoiceDate  354321 non-null  object \n",
      " 3   StockCode    354321 non-null  object \n",
      " 4   Description  354321 non-null  object \n",
      " 5   Quantity     354321 non-null  float64\n",
      " 6   UnitPrice    354321 non-null  float64\n",
      "dtypes: float64(3), object(4)\n",
      "memory usage: 21.6+ MB\n"
     ]
    }
   ],
   "source": [
    "df2 = df2.dropna()\n",
    "df2.info()"
   ]
  },
  {
   "cell_type": "code",
   "execution_count": 22,
   "metadata": {},
   "outputs": [
    {
     "name": "stdout",
     "output_type": "stream",
     "text": [
      "<class 'pandas.core.frame.DataFrame'>\n",
      "Int64Index: 354321 entries, 0 to 495477\n",
      "Data columns (total 5 columns):\n",
      " #   Column       Non-Null Count   Dtype  \n",
      "---  ------       --------------   -----  \n",
      " 0   CustomerID   354321 non-null  float64\n",
      " 1   InvoiceNo    354321 non-null  object \n",
      " 2   InvoiceDate  354321 non-null  object \n",
      " 3   Quantity     354321 non-null  float64\n",
      " 4   UnitPrice    354321 non-null  float64\n",
      "dtypes: float64(3), object(2)\n",
      "memory usage: 16.2+ MB\n"
     ]
    }
   ],
   "source": [
    "df2.drop(['StockCode','Description'], axis=1, inplace=True)\n",
    "df2.info()"
   ]
  },
  {
   "cell_type": "code",
   "execution_count": 23,
   "metadata": {},
   "outputs": [
    {
     "data": {
      "text/html": [
       "<div>\n",
       "<style scoped>\n",
       "    .dataframe tbody tr th:only-of-type {\n",
       "        vertical-align: middle;\n",
       "    }\n",
       "\n",
       "    .dataframe tbody tr th {\n",
       "        vertical-align: top;\n",
       "    }\n",
       "\n",
       "    .dataframe thead th {\n",
       "        text-align: right;\n",
       "    }\n",
       "</style>\n",
       "<table border=\"1\" class=\"dataframe\">\n",
       "  <thead>\n",
       "    <tr style=\"text-align: right;\">\n",
       "      <th></th>\n",
       "      <th>CustomerID</th>\n",
       "      <th>InvoiceNo</th>\n",
       "      <th>InvoiceDate</th>\n",
       "      <th>Quantity</th>\n",
       "      <th>UnitPrice</th>\n",
       "    </tr>\n",
       "  </thead>\n",
       "  <tbody>\n",
       "    <tr>\n",
       "      <th>0</th>\n",
       "      <td>17850.0</td>\n",
       "      <td>536365</td>\n",
       "      <td>25/09/2020</td>\n",
       "      <td>6.0</td>\n",
       "      <td>8.415</td>\n",
       "    </tr>\n",
       "    <tr>\n",
       "      <th>1</th>\n",
       "      <td>17850.0</td>\n",
       "      <td>536365</td>\n",
       "      <td>25/09/2020</td>\n",
       "      <td>6.0</td>\n",
       "      <td>11.187</td>\n",
       "    </tr>\n",
       "    <tr>\n",
       "      <th>2</th>\n",
       "      <td>17850.0</td>\n",
       "      <td>536365</td>\n",
       "      <td>25/09/2020</td>\n",
       "      <td>8.0</td>\n",
       "      <td>9.075</td>\n",
       "    </tr>\n",
       "    <tr>\n",
       "      <th>3</th>\n",
       "      <td>17850.0</td>\n",
       "      <td>536365</td>\n",
       "      <td>25/09/2020</td>\n",
       "      <td>6.0</td>\n",
       "      <td>11.187</td>\n",
       "    </tr>\n",
       "    <tr>\n",
       "      <th>4</th>\n",
       "      <td>17850.0</td>\n",
       "      <td>536365</td>\n",
       "      <td>25/09/2020</td>\n",
       "      <td>6.0</td>\n",
       "      <td>11.187</td>\n",
       "    </tr>\n",
       "  </tbody>\n",
       "</table>\n",
       "</div>"
      ],
      "text/plain": [
       "   CustomerID InvoiceNo InvoiceDate  Quantity  UnitPrice\n",
       "0     17850.0    536365  25/09/2020       6.0      8.415\n",
       "1     17850.0    536365  25/09/2020       6.0     11.187\n",
       "2     17850.0    536365  25/09/2020       8.0      9.075\n",
       "3     17850.0    536365  25/09/2020       6.0     11.187\n",
       "4     17850.0    536365  25/09/2020       6.0     11.187"
      ]
     },
     "execution_count": 23,
     "metadata": {},
     "output_type": "execute_result"
    }
   ],
   "source": [
    "df2.head()"
   ]
  },
  {
   "cell_type": "code",
   "execution_count": 24,
   "metadata": {},
   "outputs": [
    {
     "data": {
      "text/html": [
       "<div>\n",
       "<style scoped>\n",
       "    .dataframe tbody tr th:only-of-type {\n",
       "        vertical-align: middle;\n",
       "    }\n",
       "\n",
       "    .dataframe tbody tr th {\n",
       "        vertical-align: top;\n",
       "    }\n",
       "\n",
       "    .dataframe thead th {\n",
       "        text-align: right;\n",
       "    }\n",
       "</style>\n",
       "<table border=\"1\" class=\"dataframe\">\n",
       "  <thead>\n",
       "    <tr style=\"text-align: right;\">\n",
       "      <th></th>\n",
       "      <th>ID_OF_CUSTOMER</th>\n",
       "      <th>NUMBER_OF_INVOICE</th>\n",
       "      <th>DATE_OF_INVOICE</th>\n",
       "      <th>QUANTITY</th>\n",
       "      <th>PRICE_OF_UNIT</th>\n",
       "    </tr>\n",
       "  </thead>\n",
       "  <tbody>\n",
       "    <tr>\n",
       "      <th>0</th>\n",
       "      <td>17850.0</td>\n",
       "      <td>536365</td>\n",
       "      <td>25/09/2020</td>\n",
       "      <td>6.0</td>\n",
       "      <td>8.415</td>\n",
       "    </tr>\n",
       "    <tr>\n",
       "      <th>1</th>\n",
       "      <td>17850.0</td>\n",
       "      <td>536365</td>\n",
       "      <td>25/09/2020</td>\n",
       "      <td>6.0</td>\n",
       "      <td>11.187</td>\n",
       "    </tr>\n",
       "    <tr>\n",
       "      <th>2</th>\n",
       "      <td>17850.0</td>\n",
       "      <td>536365</td>\n",
       "      <td>25/09/2020</td>\n",
       "      <td>8.0</td>\n",
       "      <td>9.075</td>\n",
       "    </tr>\n",
       "    <tr>\n",
       "      <th>3</th>\n",
       "      <td>17850.0</td>\n",
       "      <td>536365</td>\n",
       "      <td>25/09/2020</td>\n",
       "      <td>6.0</td>\n",
       "      <td>11.187</td>\n",
       "    </tr>\n",
       "    <tr>\n",
       "      <th>4</th>\n",
       "      <td>17850.0</td>\n",
       "      <td>536365</td>\n",
       "      <td>25/09/2020</td>\n",
       "      <td>6.0</td>\n",
       "      <td>11.187</td>\n",
       "    </tr>\n",
       "  </tbody>\n",
       "</table>\n",
       "</div>"
      ],
      "text/plain": [
       "   ID_OF_CUSTOMER NUMBER_OF_INVOICE DATE_OF_INVOICE  QUANTITY  PRICE_OF_UNIT\n",
       "0         17850.0            536365      25/09/2020       6.0          8.415\n",
       "1         17850.0            536365      25/09/2020       6.0         11.187\n",
       "2         17850.0            536365      25/09/2020       8.0          9.075\n",
       "3         17850.0            536365      25/09/2020       6.0         11.187\n",
       "4         17850.0            536365      25/09/2020       6.0         11.187"
      ]
     },
     "execution_count": 24,
     "metadata": {},
     "output_type": "execute_result"
    }
   ],
   "source": [
    "df2=df2.rename(columns={'CustomerID': 'ID_OF_CUSTOMER', 'InvoiceNo': 'NUMBER_OF_INVOICE',\n",
    "                       'InvoiceDate': 'DATE_OF_INVOICE', 'Quantity': 'QUANTITY',\n",
    "                       'UnitPrice': 'PRICE_OF_UNIT'})\n",
    "df2.head()"
   ]
  },
  {
   "cell_type": "code",
   "execution_count": 25,
   "metadata": {},
   "outputs": [
    {
     "data": {
      "image/png": "[encoded data removed]",
      "text/plain": [
       "<Figure size 1440x1080 with 4 Axes>"
      ]
     },
     "metadata": {
      "needs_background": "light"
     },
     "output_type": "display_data"
    }
   ],
   "source": [
    "%matplotlib inline\n",
    "import matplotlib.pyplot as plt\n",
    "df2.hist(bins=10, figsize=(20,15))\n",
    "plt.savefig(\"attribute_histogram_plots\")\n",
    "plt.show()"
   ]
  },
  {
   "cell_type": "code",
   "execution_count": 26,
   "metadata": {},
   "outputs": [
    {
     "data": {
      "text/html": [
       "<div>\n",
       "<style scoped>\n",
       "    .dataframe tbody tr th:only-of-type {\n",
       "        vertical-align: middle;\n",
       "    }\n",
       "\n",
       "    .dataframe tbody tr th {\n",
       "        vertical-align: top;\n",
       "    }\n",
       "\n",
       "    .dataframe thead th {\n",
       "        text-align: right;\n",
       "    }\n",
       "</style>\n",
       "<table border=\"1\" class=\"dataframe\">\n",
       "  <thead>\n",
       "    <tr style=\"text-align: right;\">\n",
       "      <th></th>\n",
       "      <th>ID_OF_CUSTOMER</th>\n",
       "      <th>NUMBER_OF_INVOICE</th>\n",
       "      <th>DATE_OF_INVOICE</th>\n",
       "      <th>QUANTITY</th>\n",
       "      <th>PRICE_OF_UNIT</th>\n",
       "      <th>TOTAL_PURCHASE</th>\n",
       "    </tr>\n",
       "  </thead>\n",
       "  <tbody>\n",
       "    <tr>\n",
       "      <th>0</th>\n",
       "      <td>17850.0</td>\n",
       "      <td>536365</td>\n",
       "      <td>25/09/2020</td>\n",
       "      <td>6.0</td>\n",
       "      <td>8.415</td>\n",
       "      <td>50.490</td>\n",
       "    </tr>\n",
       "    <tr>\n",
       "      <th>1</th>\n",
       "      <td>17850.0</td>\n",
       "      <td>536365</td>\n",
       "      <td>25/09/2020</td>\n",
       "      <td>6.0</td>\n",
       "      <td>11.187</td>\n",
       "      <td>67.122</td>\n",
       "    </tr>\n",
       "    <tr>\n",
       "      <th>2</th>\n",
       "      <td>17850.0</td>\n",
       "      <td>536365</td>\n",
       "      <td>25/09/2020</td>\n",
       "      <td>8.0</td>\n",
       "      <td>9.075</td>\n",
       "      <td>72.600</td>\n",
       "    </tr>\n",
       "    <tr>\n",
       "      <th>3</th>\n",
       "      <td>17850.0</td>\n",
       "      <td>536365</td>\n",
       "      <td>25/09/2020</td>\n",
       "      <td>6.0</td>\n",
       "      <td>11.187</td>\n",
       "      <td>67.122</td>\n",
       "    </tr>\n",
       "    <tr>\n",
       "      <th>4</th>\n",
       "      <td>17850.0</td>\n",
       "      <td>536365</td>\n",
       "      <td>25/09/2020</td>\n",
       "      <td>6.0</td>\n",
       "      <td>11.187</td>\n",
       "      <td>67.122</td>\n",
       "    </tr>\n",
       "  </tbody>\n",
       "</table>\n",
       "</div>"
      ],
      "text/plain": [
       "   ID_OF_CUSTOMER NUMBER_OF_INVOICE DATE_OF_INVOICE  QUANTITY  PRICE_OF_UNIT  \\\n",
       "0         17850.0            536365      25/09/2020       6.0          8.415   \n",
       "1         17850.0            536365      25/09/2020       6.0         11.187   \n",
       "2         17850.0            536365      25/09/2020       8.0          9.075   \n",
       "3         17850.0            536365      25/09/2020       6.0         11.187   \n",
       "4         17850.0            536365      25/09/2020       6.0         11.187   \n",
       "\n",
       "   TOTAL_PURCHASE  \n",
       "0          50.490  \n",
       "1          67.122  \n",
       "2          72.600  \n",
       "3          67.122  \n",
       "4          67.122  "
      ]
     },
     "execution_count": 26,
     "metadata": {},
     "output_type": "execute_result"
    }
   ],
   "source": [
    "# Calulate total purchase\n",
    "df2['TOTAL_PURCHASE'] = df2['QUANTITY'] * df2['PRICE_OF_UNIT']\n",
    "df2.head()"
   ]
  },
  {
   "cell_type": "code",
   "execution_count": 27,
   "metadata": {},
   "outputs": [
    {
     "data": {
      "text/html": [
       "<div>\n",
       "<style scoped>\n",
       "    .dataframe tbody tr th:only-of-type {\n",
       "        vertical-align: middle;\n",
       "    }\n",
       "\n",
       "    .dataframe tbody tr th {\n",
       "        vertical-align: top;\n",
       "    }\n",
       "\n",
       "    .dataframe thead th {\n",
       "        text-align: right;\n",
       "    }\n",
       "</style>\n",
       "<table border=\"1\" class=\"dataframe\">\n",
       "  <thead>\n",
       "    <tr style=\"text-align: right;\">\n",
       "      <th></th>\n",
       "      <th>ID_OF_CUSTOMER</th>\n",
       "      <th>NUMBER_OF_INVOICE</th>\n",
       "      <th>DATE_OF_INVOICE</th>\n",
       "      <th>QUANTITY</th>\n",
       "      <th>PRICE_OF_UNIT</th>\n",
       "      <th>TOTAL_PURCHASE</th>\n",
       "    </tr>\n",
       "  </thead>\n",
       "  <tbody>\n",
       "    <tr>\n",
       "      <th>0</th>\n",
       "      <td>17850.0</td>\n",
       "      <td>536365</td>\n",
       "      <td>2020-09-25</td>\n",
       "      <td>6.0</td>\n",
       "      <td>8.415</td>\n",
       "      <td>50.490</td>\n",
       "    </tr>\n",
       "    <tr>\n",
       "      <th>1</th>\n",
       "      <td>17850.0</td>\n",
       "      <td>536365</td>\n",
       "      <td>2020-09-25</td>\n",
       "      <td>6.0</td>\n",
       "      <td>11.187</td>\n",
       "      <td>67.122</td>\n",
       "    </tr>\n",
       "    <tr>\n",
       "      <th>2</th>\n",
       "      <td>17850.0</td>\n",
       "      <td>536365</td>\n",
       "      <td>2020-09-25</td>\n",
       "      <td>8.0</td>\n",
       "      <td>9.075</td>\n",
       "      <td>72.600</td>\n",
       "    </tr>\n",
       "    <tr>\n",
       "      <th>3</th>\n",
       "      <td>17850.0</td>\n",
       "      <td>536365</td>\n",
       "      <td>2020-09-25</td>\n",
       "      <td>6.0</td>\n",
       "      <td>11.187</td>\n",
       "      <td>67.122</td>\n",
       "    </tr>\n",
       "    <tr>\n",
       "      <th>4</th>\n",
       "      <td>17850.0</td>\n",
       "      <td>536365</td>\n",
       "      <td>2020-09-25</td>\n",
       "      <td>6.0</td>\n",
       "      <td>11.187</td>\n",
       "      <td>67.122</td>\n",
       "    </tr>\n",
       "  </tbody>\n",
       "</table>\n",
       "</div>"
      ],
      "text/plain": [
       "   ID_OF_CUSTOMER NUMBER_OF_INVOICE DATE_OF_INVOICE  QUANTITY  PRICE_OF_UNIT  \\\n",
       "0         17850.0            536365      2020-09-25       6.0          8.415   \n",
       "1         17850.0            536365      2020-09-25       6.0         11.187   \n",
       "2         17850.0            536365      2020-09-25       8.0          9.075   \n",
       "3         17850.0            536365      2020-09-25       6.0         11.187   \n",
       "4         17850.0            536365      2020-09-25       6.0         11.187   \n",
       "\n",
       "   TOTAL_PURCHASE  \n",
       "0          50.490  \n",
       "1          67.122  \n",
       "2          72.600  \n",
       "3          67.122  \n",
       "4          67.122  "
      ]
     },
     "execution_count": 27,
     "metadata": {},
     "output_type": "execute_result"
    }
   ],
   "source": [
    "# Converting Pandas Series to DateTime in a DataFrame\n",
    "df2['DATE_OF_INVOICE']=pd.to_datetime(df2['DATE_OF_INVOICE'])\n",
    "df2.head()"
   ]
  },
  {
   "cell_type": "code",
   "execution_count": 28,
   "metadata": {},
   "outputs": [
    {
     "data": {
      "text/html": [
       "<div>\n",
       "<style scoped>\n",
       "    .dataframe tbody tr th:only-of-type {\n",
       "        vertical-align: middle;\n",
       "    }\n",
       "\n",
       "    .dataframe tbody tr th {\n",
       "        vertical-align: top;\n",
       "    }\n",
       "\n",
       "    .dataframe thead th {\n",
       "        text-align: right;\n",
       "    }\n",
       "</style>\n",
       "<table border=\"1\" class=\"dataframe\">\n",
       "  <thead>\n",
       "    <tr style=\"text-align: right;\">\n",
       "      <th></th>\n",
       "      <th>ID_OF_CUSTOMER</th>\n",
       "      <th>NUMBER_OF_INVOICE</th>\n",
       "      <th>DATE_OF_INVOICE</th>\n",
       "      <th>QUANTITY</th>\n",
       "      <th>PRICE_OF_UNIT</th>\n",
       "      <th>TOTAL_PURCHASE</th>\n",
       "      <th>MONTH_BY_YEAR</th>\n",
       "    </tr>\n",
       "  </thead>\n",
       "  <tbody>\n",
       "    <tr>\n",
       "      <th>0</th>\n",
       "      <td>17850.0</td>\n",
       "      <td>536365</td>\n",
       "      <td>2020-09-25</td>\n",
       "      <td>6.0</td>\n",
       "      <td>8.415</td>\n",
       "      <td>50.490</td>\n",
       "      <td>Sep-2020</td>\n",
       "    </tr>\n",
       "    <tr>\n",
       "      <th>1</th>\n",
       "      <td>17850.0</td>\n",
       "      <td>536365</td>\n",
       "      <td>2020-09-25</td>\n",
       "      <td>6.0</td>\n",
       "      <td>11.187</td>\n",
       "      <td>67.122</td>\n",
       "      <td>Sep-2020</td>\n",
       "    </tr>\n",
       "    <tr>\n",
       "      <th>2</th>\n",
       "      <td>17850.0</td>\n",
       "      <td>536365</td>\n",
       "      <td>2020-09-25</td>\n",
       "      <td>8.0</td>\n",
       "      <td>9.075</td>\n",
       "      <td>72.600</td>\n",
       "      <td>Sep-2020</td>\n",
       "    </tr>\n",
       "    <tr>\n",
       "      <th>3</th>\n",
       "      <td>17850.0</td>\n",
       "      <td>536365</td>\n",
       "      <td>2020-09-25</td>\n",
       "      <td>6.0</td>\n",
       "      <td>11.187</td>\n",
       "      <td>67.122</td>\n",
       "      <td>Sep-2020</td>\n",
       "    </tr>\n",
       "    <tr>\n",
       "      <th>4</th>\n",
       "      <td>17850.0</td>\n",
       "      <td>536365</td>\n",
       "      <td>2020-09-25</td>\n",
       "      <td>6.0</td>\n",
       "      <td>11.187</td>\n",
       "      <td>67.122</td>\n",
       "      <td>Sep-2020</td>\n",
       "    </tr>\n",
       "  </tbody>\n",
       "</table>\n",
       "</div>"
      ],
      "text/plain": [
       "   ID_OF_CUSTOMER NUMBER_OF_INVOICE DATE_OF_INVOICE  QUANTITY  PRICE_OF_UNIT  \\\n",
       "0         17850.0            536365      2020-09-25       6.0          8.415   \n",
       "1         17850.0            536365      2020-09-25       6.0         11.187   \n",
       "2         17850.0            536365      2020-09-25       8.0          9.075   \n",
       "3         17850.0            536365      2020-09-25       6.0         11.187   \n",
       "4         17850.0            536365      2020-09-25       6.0         11.187   \n",
       "\n",
       "   TOTAL_PURCHASE MONTH_BY_YEAR  \n",
       "0          50.490      Sep-2020  \n",
       "1          67.122      Sep-2020  \n",
       "2          72.600      Sep-2020  \n",
       "3          67.122      Sep-2020  \n",
       "4          67.122      Sep-2020  "
      ]
     },
     "execution_count": 28,
     "metadata": {},
     "output_type": "execute_result"
    }
   ],
   "source": [
    "# Extract month and year from InvoiceDate.\n",
    "df2['MONTH_BY_YEAR'] = df2['DATE_OF_INVOICE'].apply(lambda x: x.strftime('%b-%Y'))\n",
    "df2.head()"
   ]
  },
  {
   "cell_type": "code",
   "execution_count": 29,
   "metadata": {},
   "outputs": [
    {
     "data": {
      "text/html": [
       "<div>\n",
       "<style scoped>\n",
       "    .dataframe tbody tr th:only-of-type {\n",
       "        vertical-align: middle;\n",
       "    }\n",
       "\n",
       "    .dataframe tbody tr th {\n",
       "        vertical-align: top;\n",
       "    }\n",
       "\n",
       "    .dataframe thead th {\n",
       "        text-align: right;\n",
       "    }\n",
       "</style>\n",
       "<table border=\"1\" class=\"dataframe\">\n",
       "  <thead>\n",
       "    <tr style=\"text-align: right;\">\n",
       "      <th>MONTH_BY_YEAR</th>\n",
       "      <th>ID_OF_CUSTOMER</th>\n",
       "      <th>Apr-2020</th>\n",
       "      <th>Apr-2021</th>\n",
       "      <th>Aug-2020</th>\n",
       "      <th>Aug-2021</th>\n",
       "      <th>Dec-2020</th>\n",
       "      <th>Dec-2021</th>\n",
       "      <th>Feb-2020</th>\n",
       "      <th>Feb-2021</th>\n",
       "      <th>Jan-2020</th>\n",
       "      <th>...</th>\n",
       "      <th>Mar-2020</th>\n",
       "      <th>Mar-2021</th>\n",
       "      <th>May-2020</th>\n",
       "      <th>May-2021</th>\n",
       "      <th>Nov-2020</th>\n",
       "      <th>Nov-2021</th>\n",
       "      <th>Oct-2020</th>\n",
       "      <th>Oct-2021</th>\n",
       "      <th>Sep-2020</th>\n",
       "      <th>Sep-2021</th>\n",
       "    </tr>\n",
       "  </thead>\n",
       "  <tbody>\n",
       "    <tr>\n",
       "      <th>0</th>\n",
       "      <td>12346.0</td>\n",
       "      <td>0.000</td>\n",
       "      <td>0.000</td>\n",
       "      <td>0.000</td>\n",
       "      <td>0.000</td>\n",
       "      <td>254705.880</td>\n",
       "      <td>0.000</td>\n",
       "      <td>0.000</td>\n",
       "      <td>0.000</td>\n",
       "      <td>0.000</td>\n",
       "      <td>...</td>\n",
       "      <td>0.000</td>\n",
       "      <td>0.000</td>\n",
       "      <td>0.000</td>\n",
       "      <td>0.000</td>\n",
       "      <td>0.000</td>\n",
       "      <td>0.000</td>\n",
       "      <td>0.000</td>\n",
       "      <td>0.000</td>\n",
       "      <td>0.000</td>\n",
       "      <td>0.000</td>\n",
       "    </tr>\n",
       "    <tr>\n",
       "      <th>1</th>\n",
       "      <td>12747.0</td>\n",
       "      <td>0.000</td>\n",
       "      <td>1241.790</td>\n",
       "      <td>0.000</td>\n",
       "      <td>0.000</td>\n",
       "      <td>1025.574</td>\n",
       "      <td>1032.009</td>\n",
       "      <td>0.000</td>\n",
       "      <td>2908.818</td>\n",
       "      <td>0.000</td>\n",
       "      <td>...</td>\n",
       "      <td>0.000</td>\n",
       "      <td>1083.555</td>\n",
       "      <td>0.000</td>\n",
       "      <td>0.000</td>\n",
       "      <td>1000.032</td>\n",
       "      <td>0.000</td>\n",
       "      <td>0.000</td>\n",
       "      <td>0.000</td>\n",
       "      <td>1183.248</td>\n",
       "      <td>0.000</td>\n",
       "    </tr>\n",
       "    <tr>\n",
       "      <th>2</th>\n",
       "      <td>12748.0</td>\n",
       "      <td>2729.067</td>\n",
       "      <td>3541.263</td>\n",
       "      <td>9.405</td>\n",
       "      <td>6900.795</td>\n",
       "      <td>2576.013</td>\n",
       "      <td>4693.788</td>\n",
       "      <td>1012.572</td>\n",
       "      <td>3990.558</td>\n",
       "      <td>270.996</td>\n",
       "      <td>...</td>\n",
       "      <td>1549.086</td>\n",
       "      <td>6474.072</td>\n",
       "      <td>2060.157</td>\n",
       "      <td>6448.761</td>\n",
       "      <td>113.751</td>\n",
       "      <td>3299.670</td>\n",
       "      <td>2232.186</td>\n",
       "      <td>7421.436</td>\n",
       "      <td>4433.649</td>\n",
       "      <td>22251.801</td>\n",
       "    </tr>\n",
       "    <tr>\n",
       "      <th>3</th>\n",
       "      <td>12749.0</td>\n",
       "      <td>0.000</td>\n",
       "      <td>0.000</td>\n",
       "      <td>0.000</td>\n",
       "      <td>0.000</td>\n",
       "      <td>0.000</td>\n",
       "      <td>0.000</td>\n",
       "      <td>0.000</td>\n",
       "      <td>0.000</td>\n",
       "      <td>0.000</td>\n",
       "      <td>...</td>\n",
       "      <td>0.000</td>\n",
       "      <td>0.000</td>\n",
       "      <td>0.000</td>\n",
       "      <td>9092.259</td>\n",
       "      <td>0.000</td>\n",
       "      <td>1889.547</td>\n",
       "      <td>0.000</td>\n",
       "      <td>0.000</td>\n",
       "      <td>0.000</td>\n",
       "      <td>2518.098</td>\n",
       "    </tr>\n",
       "    <tr>\n",
       "      <th>4</th>\n",
       "      <td>12820.0</td>\n",
       "      <td>0.000</td>\n",
       "      <td>0.000</td>\n",
       "      <td>0.000</td>\n",
       "      <td>1134.408</td>\n",
       "      <td>0.000</td>\n",
       "      <td>0.000</td>\n",
       "      <td>0.000</td>\n",
       "      <td>0.000</td>\n",
       "      <td>0.000</td>\n",
       "      <td>...</td>\n",
       "      <td>0.000</td>\n",
       "      <td>0.000</td>\n",
       "      <td>0.000</td>\n",
       "      <td>0.000</td>\n",
       "      <td>562.518</td>\n",
       "      <td>0.000</td>\n",
       "      <td>0.000</td>\n",
       "      <td>0.000</td>\n",
       "      <td>0.000</td>\n",
       "      <td>0.000</td>\n",
       "    </tr>\n",
       "  </tbody>\n",
       "</table>\n",
       "<p>5 rows × 25 columns</p>\n",
       "</div>"
      ],
      "text/plain": [
       "MONTH_BY_YEAR  ID_OF_CUSTOMER  Apr-2020  Apr-2021  Aug-2020  Aug-2021  \\\n",
       "0                     12346.0     0.000     0.000     0.000     0.000   \n",
       "1                     12747.0     0.000  1241.790     0.000     0.000   \n",
       "2                     12748.0  2729.067  3541.263     9.405  6900.795   \n",
       "3                     12749.0     0.000     0.000     0.000     0.000   \n",
       "4                     12820.0     0.000     0.000     0.000  1134.408   \n",
       "\n",
       "MONTH_BY_YEAR    Dec-2020  Dec-2021  Feb-2020  Feb-2021  Jan-2020  ...  \\\n",
       "0              254705.880     0.000     0.000     0.000     0.000  ...   \n",
       "1                1025.574  1032.009     0.000  2908.818     0.000  ...   \n",
       "2                2576.013  4693.788  1012.572  3990.558   270.996  ...   \n",
       "3                   0.000     0.000     0.000     0.000     0.000  ...   \n",
       "4                   0.000     0.000     0.000     0.000     0.000  ...   \n",
       "\n",
       "MONTH_BY_YEAR  Mar-2020  Mar-2021  May-2020  May-2021  Nov-2020  Nov-2021  \\\n",
       "0                 0.000     0.000     0.000     0.000     0.000     0.000   \n",
       "1                 0.000  1083.555     0.000     0.000  1000.032     0.000   \n",
       "2              1549.086  6474.072  2060.157  6448.761   113.751  3299.670   \n",
       "3                 0.000     0.000     0.000  9092.259     0.000  1889.547   \n",
       "4                 0.000     0.000     0.000     0.000   562.518     0.000   \n",
       "\n",
       "MONTH_BY_YEAR  Oct-2020  Oct-2021  Sep-2020   Sep-2021  \n",
       "0                 0.000     0.000     0.000      0.000  \n",
       "1                 0.000     0.000  1183.248      0.000  \n",
       "2              2232.186  7421.436  4433.649  22251.801  \n",
       "3                 0.000     0.000     0.000   2518.098  \n",
       "4                 0.000     0.000     0.000      0.000  \n",
       "\n",
       "[5 rows x 25 columns]"
      ]
     },
     "execution_count": 29,
     "metadata": {},
     "output_type": "execute_result"
    }
   ],
   "source": [
    "SALES=df2.pivot_table(index=['ID_OF_CUSTOMER'],columns=['MONTH_BY_YEAR'],values='TOTAL_PURCHASE',aggfunc='sum',fill_value=0).reset_index()\n",
    "SALES.head()"
   ]
  },
  {
   "cell_type": "code",
   "execution_count": 30,
   "metadata": {},
   "outputs": [
    {
     "data": {
      "text/html": [
       "<div>\n",
       "<style scoped>\n",
       "    .dataframe tbody tr th:only-of-type {\n",
       "        vertical-align: middle;\n",
       "    }\n",
       "\n",
       "    .dataframe tbody tr th {\n",
       "        vertical-align: top;\n",
       "    }\n",
       "\n",
       "    .dataframe thead th {\n",
       "        text-align: right;\n",
       "    }\n",
       "</style>\n",
       "<table border=\"1\" class=\"dataframe\">\n",
       "  <thead>\n",
       "    <tr style=\"text-align: right;\">\n",
       "      <th>MONTH_BY_YEAR</th>\n",
       "      <th>ID_OF_CUSTOMER</th>\n",
       "      <th>Apr-2020</th>\n",
       "      <th>Apr-2021</th>\n",
       "      <th>Aug-2020</th>\n",
       "      <th>Aug-2021</th>\n",
       "      <th>Dec-2020</th>\n",
       "      <th>Dec-2021</th>\n",
       "      <th>Feb-2020</th>\n",
       "      <th>Feb-2021</th>\n",
       "      <th>Jan-2020</th>\n",
       "      <th>...</th>\n",
       "      <th>Mar-2021</th>\n",
       "      <th>May-2020</th>\n",
       "      <th>May-2021</th>\n",
       "      <th>Nov-2020</th>\n",
       "      <th>Nov-2021</th>\n",
       "      <th>Oct-2020</th>\n",
       "      <th>Oct-2021</th>\n",
       "      <th>Sep-2020</th>\n",
       "      <th>Sep-2021</th>\n",
       "      <th>CLV</th>\n",
       "    </tr>\n",
       "  </thead>\n",
       "  <tbody>\n",
       "    <tr>\n",
       "      <th>0</th>\n",
       "      <td>12346.0</td>\n",
       "      <td>0.000</td>\n",
       "      <td>0.000</td>\n",
       "      <td>0.000</td>\n",
       "      <td>0.000</td>\n",
       "      <td>254705.880</td>\n",
       "      <td>0.000</td>\n",
       "      <td>0.000</td>\n",
       "      <td>0.000</td>\n",
       "      <td>0.000</td>\n",
       "      <td>...</td>\n",
       "      <td>0.000</td>\n",
       "      <td>0.000</td>\n",
       "      <td>0.000</td>\n",
       "      <td>0.000</td>\n",
       "      <td>0.000</td>\n",
       "      <td>0.000</td>\n",
       "      <td>0.000</td>\n",
       "      <td>0.000</td>\n",
       "      <td>0.000</td>\n",
       "      <td>254705.880</td>\n",
       "    </tr>\n",
       "    <tr>\n",
       "      <th>1</th>\n",
       "      <td>12747.0</td>\n",
       "      <td>0.000</td>\n",
       "      <td>1241.790</td>\n",
       "      <td>0.000</td>\n",
       "      <td>0.000</td>\n",
       "      <td>1025.574</td>\n",
       "      <td>1032.009</td>\n",
       "      <td>0.000</td>\n",
       "      <td>2908.818</td>\n",
       "      <td>0.000</td>\n",
       "      <td>...</td>\n",
       "      <td>1083.555</td>\n",
       "      <td>0.000</td>\n",
       "      <td>0.000</td>\n",
       "      <td>1000.032</td>\n",
       "      <td>0.000</td>\n",
       "      <td>0.000</td>\n",
       "      <td>0.000</td>\n",
       "      <td>1183.248</td>\n",
       "      <td>0.000</td>\n",
       "      <td>13846.833</td>\n",
       "    </tr>\n",
       "    <tr>\n",
       "      <th>2</th>\n",
       "      <td>12748.0</td>\n",
       "      <td>2729.067</td>\n",
       "      <td>3541.263</td>\n",
       "      <td>9.405</td>\n",
       "      <td>6900.795</td>\n",
       "      <td>2576.013</td>\n",
       "      <td>4693.788</td>\n",
       "      <td>1012.572</td>\n",
       "      <td>3990.558</td>\n",
       "      <td>270.996</td>\n",
       "      <td>...</td>\n",
       "      <td>6474.072</td>\n",
       "      <td>2060.157</td>\n",
       "      <td>6448.761</td>\n",
       "      <td>113.751</td>\n",
       "      <td>3299.670</td>\n",
       "      <td>2232.186</td>\n",
       "      <td>7421.436</td>\n",
       "      <td>4433.649</td>\n",
       "      <td>22251.801</td>\n",
       "      <td>108546.042</td>\n",
       "    </tr>\n",
       "    <tr>\n",
       "      <th>3</th>\n",
       "      <td>12749.0</td>\n",
       "      <td>0.000</td>\n",
       "      <td>0.000</td>\n",
       "      <td>0.000</td>\n",
       "      <td>0.000</td>\n",
       "      <td>0.000</td>\n",
       "      <td>0.000</td>\n",
       "      <td>0.000</td>\n",
       "      <td>0.000</td>\n",
       "      <td>0.000</td>\n",
       "      <td>...</td>\n",
       "      <td>0.000</td>\n",
       "      <td>0.000</td>\n",
       "      <td>9092.259</td>\n",
       "      <td>0.000</td>\n",
       "      <td>1889.547</td>\n",
       "      <td>0.000</td>\n",
       "      <td>0.000</td>\n",
       "      <td>0.000</td>\n",
       "      <td>2518.098</td>\n",
       "      <td>13499.904</td>\n",
       "    </tr>\n",
       "    <tr>\n",
       "      <th>4</th>\n",
       "      <td>12820.0</td>\n",
       "      <td>0.000</td>\n",
       "      <td>0.000</td>\n",
       "      <td>0.000</td>\n",
       "      <td>1134.408</td>\n",
       "      <td>0.000</td>\n",
       "      <td>0.000</td>\n",
       "      <td>0.000</td>\n",
       "      <td>0.000</td>\n",
       "      <td>0.000</td>\n",
       "      <td>...</td>\n",
       "      <td>0.000</td>\n",
       "      <td>0.000</td>\n",
       "      <td>0.000</td>\n",
       "      <td>562.518</td>\n",
       "      <td>0.000</td>\n",
       "      <td>0.000</td>\n",
       "      <td>0.000</td>\n",
       "      <td>0.000</td>\n",
       "      <td>0.000</td>\n",
       "      <td>3109.722</td>\n",
       "    </tr>\n",
       "  </tbody>\n",
       "</table>\n",
       "<p>5 rows × 26 columns</p>\n",
       "</div>"
      ],
      "text/plain": [
       "MONTH_BY_YEAR  ID_OF_CUSTOMER  Apr-2020  Apr-2021  Aug-2020  Aug-2021  \\\n",
       "0                     12346.0     0.000     0.000     0.000     0.000   \n",
       "1                     12747.0     0.000  1241.790     0.000     0.000   \n",
       "2                     12748.0  2729.067  3541.263     9.405  6900.795   \n",
       "3                     12749.0     0.000     0.000     0.000     0.000   \n",
       "4                     12820.0     0.000     0.000     0.000  1134.408   \n",
       "\n",
       "MONTH_BY_YEAR    Dec-2020  Dec-2021  Feb-2020  Feb-2021  Jan-2020  ...  \\\n",
       "0              254705.880     0.000     0.000     0.000     0.000  ...   \n",
       "1                1025.574  1032.009     0.000  2908.818     0.000  ...   \n",
       "2                2576.013  4693.788  1012.572  3990.558   270.996  ...   \n",
       "3                   0.000     0.000     0.000     0.000     0.000  ...   \n",
       "4                   0.000     0.000     0.000     0.000     0.000  ...   \n",
       "\n",
       "MONTH_BY_YEAR  Mar-2021  May-2020  May-2021  Nov-2020  Nov-2021  Oct-2020  \\\n",
       "0                 0.000     0.000     0.000     0.000     0.000     0.000   \n",
       "1              1083.555     0.000     0.000  1000.032     0.000     0.000   \n",
       "2              6474.072  2060.157  6448.761   113.751  3299.670  2232.186   \n",
       "3                 0.000     0.000  9092.259     0.000  1889.547     0.000   \n",
       "4                 0.000     0.000     0.000   562.518     0.000     0.000   \n",
       "\n",
       "MONTH_BY_YEAR  Oct-2021  Sep-2020   Sep-2021         CLV  \n",
       "0                 0.000     0.000      0.000  254705.880  \n",
       "1                 0.000  1183.248      0.000   13846.833  \n",
       "2              7421.436  4433.649  22251.801  108546.042  \n",
       "3                 0.000     0.000   2518.098   13499.904  \n",
       "4                 0.000     0.000      0.000    3109.722  \n",
       "\n",
       "[5 rows x 26 columns]"
      ]
     },
     "execution_count": 30,
     "metadata": {},
     "output_type": "execute_result"
    }
   ],
   "source": [
    "SALES['CLV']=SALES.iloc[:,2:].sum(axis=1)\n",
    "SALES.head()"
   ]
  },
  {
   "cell_type": "code",
   "execution_count": 31,
   "metadata": {},
   "outputs": [
    {
     "name": "stderr",
     "output_type": "stream",
     "text": [
      "C:\\ProgramData\\Anaconda3\\lib\\site-packages\\seaborn\\distributions.py:2551: FutureWarning: `distplot` is a deprecated function and will be removed in a future version. Please adapt your code to use either `displot` (a figure-level function with similar flexibility) or `histplot` (an axes-level function for histograms).\n",
      "  warnings.warn(msg, FutureWarning)\n"
     ]
    },
    {
     "data": {
      "text/plain": [
       "<AxesSubplot:xlabel='CLV', ylabel='Density'>"
      ]
     },
     "execution_count": 31,
     "metadata": {},
     "output_type": "execute_result"
    },
    {
     "data": {
      "image/png": "[encoded data removed]",
      "text/plain": [
       "<Figure size 432x288 with 1 Axes>"
      ]
     },
     "metadata": {
      "needs_background": "light"
     },
     "output_type": "display_data"
    }
   ],
   "source": [
    "sns.distplot(SALES['CLV'],kde=True)"
   ]
  },
  {
   "cell_type": "code",
   "execution_count": 32,
   "metadata": {},
   "outputs": [
    {
     "data": {
      "text/plain": [
       "count      3920.000000\n",
       "mean       6108.827978\n",
       "std       24578.215043\n",
       "min           0.000000\n",
       "25%         979.060500\n",
       "50%        2132.229000\n",
       "75%        5172.857250\n",
       "max      850552.098000\n",
       "Name: CLV, dtype: float64"
      ]
     },
     "execution_count": 32,
     "metadata": {},
     "output_type": "execute_result"
    }
   ],
   "source": [
    "SALES['CLV'].describe()"
   ]
  },
  {
   "cell_type": "code",
   "execution_count": 33,
   "metadata": {},
   "outputs": [
    {
     "data": {
      "text/html": [
       "<div>\n",
       "<style scoped>\n",
       "    .dataframe tbody tr th:only-of-type {\n",
       "        vertical-align: middle;\n",
       "    }\n",
       "\n",
       "    .dataframe tbody tr th {\n",
       "        vertical-align: top;\n",
       "    }\n",
       "\n",
       "    .dataframe thead th {\n",
       "        text-align: right;\n",
       "    }\n",
       "</style>\n",
       "<table border=\"1\" class=\"dataframe\">\n",
       "  <thead>\n",
       "    <tr style=\"text-align: right;\">\n",
       "      <th>MONTH_BY_YEAR</th>\n",
       "      <th>ID_OF_CUSTOMER</th>\n",
       "      <th>Sep-2021</th>\n",
       "      <th>Aug-2021</th>\n",
       "      <th>Jul-2021</th>\n",
       "      <th>Jun-2021</th>\n",
       "      <th>May-2021</th>\n",
       "      <th>Apr-2021</th>\n",
       "      <th>CLV</th>\n",
       "    </tr>\n",
       "  </thead>\n",
       "  <tbody>\n",
       "    <tr>\n",
       "      <th>0</th>\n",
       "      <td>12346.0</td>\n",
       "      <td>0.000</td>\n",
       "      <td>0.000</td>\n",
       "      <td>0.000</td>\n",
       "      <td>0.000</td>\n",
       "      <td>0.000</td>\n",
       "      <td>0.000</td>\n",
       "      <td>254705.880</td>\n",
       "    </tr>\n",
       "    <tr>\n",
       "      <th>1</th>\n",
       "      <td>12747.0</td>\n",
       "      <td>0.000</td>\n",
       "      <td>0.000</td>\n",
       "      <td>2228.754</td>\n",
       "      <td>995.610</td>\n",
       "      <td>0.000</td>\n",
       "      <td>1241.790</td>\n",
       "      <td>13846.833</td>\n",
       "    </tr>\n",
       "    <tr>\n",
       "      <th>2</th>\n",
       "      <td>12748.0</td>\n",
       "      <td>22251.801</td>\n",
       "      <td>6900.795</td>\n",
       "      <td>18851.184</td>\n",
       "      <td>3869.151</td>\n",
       "      <td>6448.761</td>\n",
       "      <td>3541.263</td>\n",
       "      <td>108546.042</td>\n",
       "    </tr>\n",
       "    <tr>\n",
       "      <th>3</th>\n",
       "      <td>12749.0</td>\n",
       "      <td>2518.098</td>\n",
       "      <td>0.000</td>\n",
       "      <td>0.000</td>\n",
       "      <td>0.000</td>\n",
       "      <td>9092.259</td>\n",
       "      <td>0.000</td>\n",
       "      <td>13499.904</td>\n",
       "    </tr>\n",
       "    <tr>\n",
       "      <th>4</th>\n",
       "      <td>12820.0</td>\n",
       "      <td>0.000</td>\n",
       "      <td>1134.408</td>\n",
       "      <td>718.641</td>\n",
       "      <td>0.000</td>\n",
       "      <td>0.000</td>\n",
       "      <td>0.000</td>\n",
       "      <td>3109.722</td>\n",
       "    </tr>\n",
       "  </tbody>\n",
       "</table>\n",
       "</div>"
      ],
      "text/plain": [
       "MONTH_BY_YEAR  ID_OF_CUSTOMER   Sep-2021  Aug-2021   Jul-2021  Jun-2021  \\\n",
       "0                     12346.0      0.000     0.000      0.000     0.000   \n",
       "1                     12747.0      0.000     0.000   2228.754   995.610   \n",
       "2                     12748.0  22251.801  6900.795  18851.184  3869.151   \n",
       "3                     12749.0   2518.098     0.000      0.000     0.000   \n",
       "4                     12820.0      0.000  1134.408    718.641     0.000   \n",
       "\n",
       "MONTH_BY_YEAR  May-2021  Apr-2021         CLV  \n",
       "0                 0.000     0.000  254705.880  \n",
       "1                 0.000  1241.790   13846.833  \n",
       "2              6448.761  3541.263  108546.042  \n",
       "3              9092.259     0.000   13499.904  \n",
       "4                 0.000     0.000    3109.722  "
      ]
     },
     "execution_count": 33,
     "metadata": {},
     "output_type": "execute_result"
    }
   ],
   "source": [
    "df3 = SALES[['ID_OF_CUSTOMER','Sep-2021','Aug-2021','Jul-2021','Jun-2021','May-2021','Apr-2021','CLV']]\n",
    "df3.head()"
   ]
  },
  {
   "cell_type": "code",
   "execution_count": 34,
   "metadata": {},
   "outputs": [
    {
     "data": {
      "text/html": [
       "<div>\n",
       "<style scoped>\n",
       "    .dataframe tbody tr th:only-of-type {\n",
       "        vertical-align: middle;\n",
       "    }\n",
       "\n",
       "    .dataframe tbody tr th {\n",
       "        vertical-align: top;\n",
       "    }\n",
       "\n",
       "    .dataframe thead th {\n",
       "        text-align: right;\n",
       "    }\n",
       "</style>\n",
       "<table border=\"1\" class=\"dataframe\">\n",
       "  <thead>\n",
       "    <tr style=\"text-align: right;\">\n",
       "      <th></th>\n",
       "      <th>ID_OF_CUSTOMER</th>\n",
       "      <th>Sep-2021</th>\n",
       "      <th>Aug-2021</th>\n",
       "      <th>Jul-2021</th>\n",
       "      <th>Jun-2021</th>\n",
       "      <th>May-2021</th>\n",
       "      <th>Apr-2021</th>\n",
       "      <th>CLV</th>\n",
       "    </tr>\n",
       "  </thead>\n",
       "  <tbody>\n",
       "    <tr>\n",
       "      <th>0</th>\n",
       "      <td>12346.0</td>\n",
       "      <td>0.000</td>\n",
       "      <td>0.000</td>\n",
       "      <td>0.000</td>\n",
       "      <td>0.000</td>\n",
       "      <td>0.000</td>\n",
       "      <td>0.000</td>\n",
       "      <td>254705.880</td>\n",
       "    </tr>\n",
       "    <tr>\n",
       "      <th>1</th>\n",
       "      <td>12747.0</td>\n",
       "      <td>0.000</td>\n",
       "      <td>0.000</td>\n",
       "      <td>2228.754</td>\n",
       "      <td>995.610</td>\n",
       "      <td>0.000</td>\n",
       "      <td>1241.790</td>\n",
       "      <td>13846.833</td>\n",
       "    </tr>\n",
       "    <tr>\n",
       "      <th>2</th>\n",
       "      <td>12748.0</td>\n",
       "      <td>22251.801</td>\n",
       "      <td>6900.795</td>\n",
       "      <td>18851.184</td>\n",
       "      <td>3869.151</td>\n",
       "      <td>6448.761</td>\n",
       "      <td>3541.263</td>\n",
       "      <td>108546.042</td>\n",
       "    </tr>\n",
       "    <tr>\n",
       "      <th>3</th>\n",
       "      <td>12749.0</td>\n",
       "      <td>2518.098</td>\n",
       "      <td>0.000</td>\n",
       "      <td>0.000</td>\n",
       "      <td>0.000</td>\n",
       "      <td>9092.259</td>\n",
       "      <td>0.000</td>\n",
       "      <td>13499.904</td>\n",
       "    </tr>\n",
       "    <tr>\n",
       "      <th>4</th>\n",
       "      <td>12820.0</td>\n",
       "      <td>0.000</td>\n",
       "      <td>1134.408</td>\n",
       "      <td>718.641</td>\n",
       "      <td>0.000</td>\n",
       "      <td>0.000</td>\n",
       "      <td>0.000</td>\n",
       "      <td>3109.722</td>\n",
       "    </tr>\n",
       "  </tbody>\n",
       "</table>\n",
       "</div>"
      ],
      "text/plain": [
       "   ID_OF_CUSTOMER   Sep-2021  Aug-2021   Jul-2021  Jun-2021  May-2021  \\\n",
       "0         12346.0      0.000     0.000      0.000     0.000     0.000   \n",
       "1         12747.0      0.000     0.000   2228.754   995.610     0.000   \n",
       "2         12748.0  22251.801  6900.795  18851.184  3869.151  6448.761   \n",
       "3         12749.0   2518.098     0.000      0.000     0.000  9092.259   \n",
       "4         12820.0      0.000  1134.408    718.641     0.000     0.000   \n",
       "\n",
       "   Apr-2021         CLV  \n",
       "0     0.000  254705.880  \n",
       "1  1241.790   13846.833  \n",
       "2  3541.263  108546.042  \n",
       "3     0.000   13499.904  \n",
       "4     0.000    3109.722  "
      ]
     },
     "execution_count": 34,
     "metadata": {},
     "output_type": "execute_result"
    }
   ],
   "source": [
    "df4 = pd.DataFrame({'ID_OF_CUSTOMER': SALES['ID_OF_CUSTOMER'],\n",
    "                    'Sep-2021': SALES['Sep-2021'],\n",
    "                    'Aug-2021': SALES['Aug-2021'],\n",
    "                    'Jul-2021': SALES['Jul-2021'],\n",
    "                    'Jun-2021': SALES['Jun-2021'],\n",
    "                    'May-2021': SALES['May-2021'],\n",
    "                    'Apr-2021': SALES['Apr-2021'],\n",
    "                    'CLV': SALES['CLV']})\n",
    "df4.head()"
   ]
  },
  {
   "cell_type": "code",
   "execution_count": 35,
   "metadata": {},
   "outputs": [
    {
     "data": {
      "text/html": [
       "<div>\n",
       "<style scoped>\n",
       "    .dataframe tbody tr th:only-of-type {\n",
       "        vertical-align: middle;\n",
       "    }\n",
       "\n",
       "    .dataframe tbody tr th {\n",
       "        vertical-align: top;\n",
       "    }\n",
       "\n",
       "    .dataframe thead th {\n",
       "        text-align: right;\n",
       "    }\n",
       "</style>\n",
       "<table border=\"1\" class=\"dataframe\">\n",
       "  <thead>\n",
       "    <tr style=\"text-align: right;\">\n",
       "      <th></th>\n",
       "      <th>ID_OF_CUSTOMER</th>\n",
       "      <th>Sep-2021</th>\n",
       "      <th>Aug-2021</th>\n",
       "      <th>Jul-2021</th>\n",
       "      <th>Jun-2021</th>\n",
       "      <th>May-2021</th>\n",
       "      <th>Apr-2021</th>\n",
       "      <th>CLV</th>\n",
       "    </tr>\n",
       "  </thead>\n",
       "  <tbody>\n",
       "    <tr>\n",
       "      <th>ID_OF_CUSTOMER</th>\n",
       "      <td>1.000000</td>\n",
       "      <td>-0.014224</td>\n",
       "      <td>0.023552</td>\n",
       "      <td>0.017557</td>\n",
       "      <td>-0.014583</td>\n",
       "      <td>-0.017714</td>\n",
       "      <td>0.013482</td>\n",
       "      <td>0.003167</td>\n",
       "    </tr>\n",
       "    <tr>\n",
       "      <th>Sep-2021</th>\n",
       "      <td>-0.014224</td>\n",
       "      <td>1.000000</td>\n",
       "      <td>0.325189</td>\n",
       "      <td>0.509918</td>\n",
       "      <td>0.300718</td>\n",
       "      <td>0.253889</td>\n",
       "      <td>0.210215</td>\n",
       "      <td>0.517859</td>\n",
       "    </tr>\n",
       "    <tr>\n",
       "      <th>Aug-2021</th>\n",
       "      <td>0.023552</td>\n",
       "      <td>0.325189</td>\n",
       "      <td>1.000000</td>\n",
       "      <td>0.622018</td>\n",
       "      <td>0.327177</td>\n",
       "      <td>0.309603</td>\n",
       "      <td>0.677312</td>\n",
       "      <td>0.750516</td>\n",
       "    </tr>\n",
       "    <tr>\n",
       "      <th>Jul-2021</th>\n",
       "      <td>0.017557</td>\n",
       "      <td>0.509918</td>\n",
       "      <td>0.622018</td>\n",
       "      <td>1.000000</td>\n",
       "      <td>0.234534</td>\n",
       "      <td>0.249261</td>\n",
       "      <td>0.376307</td>\n",
       "      <td>0.724179</td>\n",
       "    </tr>\n",
       "    <tr>\n",
       "      <th>Jun-2021</th>\n",
       "      <td>-0.014583</td>\n",
       "      <td>0.300718</td>\n",
       "      <td>0.327177</td>\n",
       "      <td>0.234534</td>\n",
       "      <td>1.000000</td>\n",
       "      <td>0.328747</td>\n",
       "      <td>0.418300</td>\n",
       "      <td>0.467872</td>\n",
       "    </tr>\n",
       "    <tr>\n",
       "      <th>May-2021</th>\n",
       "      <td>-0.017714</td>\n",
       "      <td>0.253889</td>\n",
       "      <td>0.309603</td>\n",
       "      <td>0.249261</td>\n",
       "      <td>0.328747</td>\n",
       "      <td>1.000000</td>\n",
       "      <td>0.391340</td>\n",
       "      <td>0.495913</td>\n",
       "    </tr>\n",
       "    <tr>\n",
       "      <th>Apr-2021</th>\n",
       "      <td>0.013482</td>\n",
       "      <td>0.210215</td>\n",
       "      <td>0.677312</td>\n",
       "      <td>0.376307</td>\n",
       "      <td>0.418300</td>\n",
       "      <td>0.391340</td>\n",
       "      <td>1.000000</td>\n",
       "      <td>0.642231</td>\n",
       "    </tr>\n",
       "    <tr>\n",
       "      <th>CLV</th>\n",
       "      <td>0.003167</td>\n",
       "      <td>0.517859</td>\n",
       "      <td>0.750516</td>\n",
       "      <td>0.724179</td>\n",
       "      <td>0.467872</td>\n",
       "      <td>0.495913</td>\n",
       "      <td>0.642231</td>\n",
       "      <td>1.000000</td>\n",
       "    </tr>\n",
       "  </tbody>\n",
       "</table>\n",
       "</div>"
      ],
      "text/plain": [
       "                ID_OF_CUSTOMER  Sep-2021  Aug-2021  Jul-2021  Jun-2021  \\\n",
       "ID_OF_CUSTOMER        1.000000 -0.014224  0.023552  0.017557 -0.014583   \n",
       "Sep-2021             -0.014224  1.000000  0.325189  0.509918  0.300718   \n",
       "Aug-2021              0.023552  0.325189  1.000000  0.622018  0.327177   \n",
       "Jul-2021              0.017557  0.509918  0.622018  1.000000  0.234534   \n",
       "Jun-2021             -0.014583  0.300718  0.327177  0.234534  1.000000   \n",
       "May-2021             -0.017714  0.253889  0.309603  0.249261  0.328747   \n",
       "Apr-2021              0.013482  0.210215  0.677312  0.376307  0.418300   \n",
       "CLV                   0.003167  0.517859  0.750516  0.724179  0.467872   \n",
       "\n",
       "                May-2021  Apr-2021       CLV  \n",
       "ID_OF_CUSTOMER -0.017714  0.013482  0.003167  \n",
       "Sep-2021        0.253889  0.210215  0.517859  \n",
       "Aug-2021        0.309603  0.677312  0.750516  \n",
       "Jul-2021        0.249261  0.376307  0.724179  \n",
       "Jun-2021        0.328747  0.418300  0.467872  \n",
       "May-2021        1.000000  0.391340  0.495913  \n",
       "Apr-2021        0.391340  1.000000  0.642231  \n",
       "CLV             0.495913  0.642231  1.000000  "
      ]
     },
     "execution_count": 35,
     "metadata": {},
     "output_type": "execute_result"
    }
   ],
   "source": [
    "# find out correlation between params\n",
    "df4.corr()"
   ]
  },
  {
   "cell_type": "code",
   "execution_count": 36,
   "metadata": {},
   "outputs": [
    {
     "data": {
      "text/plain": [
       "CLV               1.000000\n",
       "Aug-2021          0.750516\n",
       "Jul-2021          0.724179\n",
       "Apr-2021          0.642231\n",
       "Sep-2021          0.517859\n",
       "May-2021          0.495913\n",
       "Jun-2021          0.467872\n",
       "ID_OF_CUSTOMER    0.003167\n",
       "Name: CLV, dtype: float64"
      ]
     },
     "execution_count": 36,
     "metadata": {},
     "output_type": "execute_result"
    }
   ],
   "source": [
    "corr_matrix = df4.corr()\n",
    "corr_matrix[\"CLV\"].sort_values(ascending=False)"
   ]
  },
  {
   "cell_type": "code",
   "execution_count": 37,
   "metadata": {},
   "outputs": [
    {
     "data": {
      "text/plain": [
       "<AxesSubplot:>"
      ]
     },
     "execution_count": 37,
     "metadata": {},
     "output_type": "execute_result"
    },
    {
     "data": {
      "image/png": "[encoded data removed]",
      "text/plain": [
       "<Figure size 432x288 with 2 Axes>"
      ]
     },
     "metadata": {
      "needs_background": "light"
     },
     "output_type": "display_data"
    }
   ],
   "source": [
    "sns.heatmap(df4.corr(),annot=True)"
   ]
  },
  {
   "cell_type": "markdown",
   "metadata": {},
   "source": [
    "# 4. Modeling"
   ]
  },
  {
   "cell_type": "code",
   "execution_count": 38,
   "metadata": {},
   "outputs": [
    {
     "data": {
      "text/plain": [
       "Index(['ID_OF_CUSTOMER', 'Sep-2021', 'Aug-2021', 'Jul-2021', 'Jun-2021',\n",
       "       'May-2021', 'Apr-2021', 'CLV'],\n",
       "      dtype='object')"
      ]
     },
     "execution_count": 38,
     "metadata": {},
     "output_type": "execute_result"
    }
   ],
   "source": [
    "df4.columns"
   ]
  },
  {
   "cell_type": "code",
   "execution_count": 39,
   "metadata": {},
   "outputs": [],
   "source": [
    "X = df4[ ['Sep-2021', 'Aug-2021', 'Jul-2021', 'Jun-2021','May-2021','Apr-2021'] ]\n",
    "y = df4[ ['CLV']]"
   ]
  },
  {
   "cell_type": "code",
   "execution_count": 40,
   "metadata": {},
   "outputs": [],
   "source": [
    "clv_features = [X for i,X in enumerate(X.columns) if i!=6]"
   ]
  },
  {
   "cell_type": "code",
   "execution_count": 41,
   "metadata": {},
   "outputs": [
    {
     "name": "stdout",
     "output_type": "stream",
     "text": [
      "                  Results: Ordinary least squares\n",
      "===================================================================\n",
      "Model:              OLS              Adj. R-squared:     0.786     \n",
      "Dependent Variable: CLV              AIC:                84348.2979\n",
      "Date:               2021-10-09 22:46 BIC:                84392.2149\n",
      "No. Observations:   3920             Log-Likelihood:     -42167.   \n",
      "Df Model:           6                F-statistic:        2399.     \n",
      "Df Residuals:       3913             Prob (F-statistic): 0.00      \n",
      "R-squared:          0.786            Scale:              1.2931e+08\n",
      "--------------------------------------------------------------------\n",
      "             Coef.    Std.Err.     t     P>|t|    [0.025     0.975] \n",
      "--------------------------------------------------------------------\n",
      "const       981.8549  189.4551   5.1825  0.0000  610.4149  1353.2949\n",
      "Sep-2021      1.1641    0.0783  14.8656  0.0000    1.0106     1.3177\n",
      "Aug-2021      1.8467    0.0785  23.5330  0.0000    1.6928     2.0005\n",
      "Jul-2021      1.7621    0.0535  32.9206  0.0000    1.6571     1.8670\n",
      "Jun-2021      1.9971    0.1367  14.6058  0.0000    1.7290     2.2652\n",
      "May-2021      1.4530    0.0663  21.9216  0.0000    1.3231     1.5830\n",
      "Apr-2021      1.8677    0.1170  15.9669  0.0000    1.6384     2.0971\n",
      "-------------------------------------------------------------------\n",
      "Omnibus:            10748.729    Durbin-Watson:       1.874        \n",
      "Prob(Omnibus):      0.000        Jarque-Bera (JB):    383138267.108\n",
      "Skew:               33.813       Prob(JB):            0.000        \n",
      "Kurtosis:           1533.089     Condition No.:       6371         \n",
      "===================================================================\n",
      "* The condition number is large (6e+03). This might indicate\n",
      "strong multicollinearity or other numerical problems.\n"
     ]
    }
   ],
   "source": [
    "import statsmodels.api as st\n",
    "X1 = st.add_constant(X)\n",
    "reg_model=st.OLS(y,X1)\n",
    "result=reg_model.fit()\n",
    "print(result.summary2())"
   ]
  },
  {
   "cell_type": "code",
   "execution_count": 42,
   "metadata": {},
   "outputs": [],
   "source": [
    "from sklearn.model_selection import train_test_split\n",
    "X_train, X_test, y_train, y_test = train_test_split(X, y, test_size=0.33, random_state=42)"
   ]
  },
  {
   "cell_type": "code",
   "execution_count": 43,
   "metadata": {},
   "outputs": [
    {
     "data": {
      "text/plain": [
       "LinearRegression()"
      ]
     },
     "execution_count": 43,
     "metadata": {},
     "output_type": "execute_result"
    }
   ],
   "source": [
    "from sklearn.linear_model import LinearRegression\n",
    "regressor = LinearRegression()\n",
    "regressor.fit(X_train, y_train)"
   ]
  },
  {
   "cell_type": "code",
   "execution_count": 44,
   "metadata": {},
   "outputs": [
    {
     "name": "stdout",
     "output_type": "stream",
     "text": [
      "                            OLS Regression Results                            \n",
      "==============================================================================\n",
      "Dep. Variable:                    CLV   R-squared:                       0.712\n",
      "Model:                            OLS   Adj. R-squared:                  0.711\n",
      "Method:                 Least Squares   F-statistic:                     1079.\n",
      "Date:                Sat, 09 Oct 2021   Prob (F-statistic):               0.00\n",
      "Time:                        22:46:52   Log-Likelihood:                -28489.\n",
      "No. Observations:                2626   AIC:                         5.699e+04\n",
      "Df Residuals:                    2619   BIC:                         5.703e+04\n",
      "Df Model:                           6                                         \n",
      "Covariance Type:            nonrobust                                         \n",
      "==============================================================================\n",
      "                 coef    std err          t      P>|t|      [0.025      0.975]\n",
      "------------------------------------------------------------------------------\n",
      "const        983.8087    256.265      3.839      0.000     481.306    1486.312\n",
      "Sep-2021       0.9477      0.112      8.457      0.000       0.728       1.168\n",
      "Aug-2021       1.9018      0.171     11.126      0.000       1.567       2.237\n",
      "Jul-2021       1.8023      0.065     27.692      0.000       1.675       1.930\n",
      "Jun-2021       1.6882      0.179      9.408      0.000       1.336       2.040\n",
      "May-2021       1.3770      0.077     17.968      0.000       1.227       1.527\n",
      "Apr-2021       2.6066      0.216     12.066      0.000       2.183       3.030\n",
      "==============================================================================\n",
      "Omnibus:                     7320.486   Durbin-Watson:                   2.023\n",
      "Prob(Omnibus):                  0.000   Jarque-Bera (JB):        250722331.220\n",
      "Skew:                          34.910   Prob(JB):                         0.00\n",
      "Kurtosis:                    1515.141   Cond. No.                     6.44e+03\n",
      "==============================================================================\n",
      "\n",
      "Notes:\n",
      "[1] Standard Errors assume that the covariance matrix of the errors is correctly specified.\n",
      "[2] The condition number is large, 6.44e+03. This might indicate that there are\n",
      "strong multicollinearity or other numerical problems.\n"
     ]
    }
   ],
   "source": [
    "X_train1 = st.add_constant(X_train)\n",
    "reg_model=st.OLS(y_train,X_train1)\n",
    "result=reg_model.fit()\n",
    "print(result.summary())"
   ]
  },
  {
   "cell_type": "code",
   "execution_count": 45,
   "metadata": {},
   "outputs": [
    {
     "name": "stdout",
     "output_type": "stream",
     "text": [
      "Precision of linear regression on training set: 0.712\n",
      "Precision of linear regression on test set: 0.885\n"
     ]
    }
   ],
   "source": [
    "print(\"Precision of linear regression on training set: {:.3f}\".format(regressor.score(X_train, y_train)))\n",
    "print(\"Precision of linear regression on test set: {:.3f}\".format(regressor.score(X_test, y_test)))"
   ]
  },
  {
   "cell_type": "code",
   "execution_count": 46,
   "metadata": {},
   "outputs": [
    {
     "data": {
      "image/png": "[encoded data removed]",
      "text/plain": [
       "<Figure size 432x288 with 1 Axes>"
      ]
     },
     "metadata": {
      "needs_background": "light"
     },
     "output_type": "display_data"
    }
   ],
   "source": [
    "from sklearn.neighbors import KNeighborsRegressor\n",
    "training_precision = []\n",
    "test_precision = []\n",
    "# try n_neighbors from 1 to 10\n",
    "neighbors_settings = range(1, 10)\n",
    "for n_neighbors in neighbors_settings:\n",
    "    # build the model\n",
    "    knn = KNeighborsRegressor(n_neighbors=n_neighbors)\n",
    "    knn.fit(X_train, y_train)\n",
    "    # record training set precision\n",
    "    training_precision.append(knn.score(X_train, y_train))\n",
    "    # record test set precision\n",
    "    test_precision.append(knn.score(X_test, y_test))\n",
    "plt.plot(neighbors_settings, training_precision, label=\"training accuracy\")\n",
    "plt.plot(neighbors_settings, test_precision, label=\"test accuracy\")\n",
    "plt.ylabel(\"Precision\")\n",
    "plt.xlabel(\"n_neighbors\")\n",
    "plt.legend()\n",
    "plt.savefig('knn_compare_model')"
   ]
  },
  {
   "cell_type": "code",
   "execution_count": 47,
   "metadata": {},
   "outputs": [
    {
     "name": "stdout",
     "output_type": "stream",
     "text": [
      "Precision of K-NN regressor on training set: 0.629\n",
      "Precision of K-NN regressor on test set: 0.574\n"
     ]
    }
   ],
   "source": [
    "knn = KNeighborsRegressor(n_neighbors=5)\n",
    "knn.fit(X_train, y_train)\n",
    "print(\"Precision of K-NN regressor on training set: {:.3f}\".format(knn.score(X_train, y_train)))\n",
    "print(\"Precision of K-NN regressor on test set: {:.3f}\".format(knn.score(X_test, y_test)))"
   ]
  },
  {
   "cell_type": "code",
   "execution_count": 48,
   "metadata": {},
   "outputs": [
    {
     "name": "stderr",
     "output_type": "stream",
     "text": [
      "C:\\ProgramData\\Anaconda3\\lib\\site-packages\\sklearn\\utils\\validation.py:72: DataConversionWarning: A column-vector y was passed when a 1d array was expected. Please change the shape of y to (n_samples, ), for example using ravel().\n",
      "  return f(**kwargs)\n"
     ]
    },
    {
     "data": {
      "text/plain": [
       "SVR()"
      ]
     },
     "execution_count": 48,
     "metadata": {},
     "output_type": "execute_result"
    }
   ],
   "source": [
    "from sklearn.svm import SVR\n",
    "svr = SVR()\n",
    "svr.fit(X_train, y_train)"
   ]
  },
  {
   "cell_type": "code",
   "execution_count": 49,
   "metadata": {},
   "outputs": [
    {
     "name": "stdout",
     "output_type": "stream",
     "text": [
      "Precision of support vector regressor on training set: -0.03\n",
      "Precision of support vector regressor on test set: -0.02\n"
     ]
    }
   ],
   "source": [
    "print(\"Precision of support vector regressor on training set: {:.2f}\".format(svr.score(X_train, y_train)))\n",
    "print(\"Precision of support vector regressor on test set: {:.2f}\".format(svr.score(X_test, y_test)))"
   ]
  },
  {
   "cell_type": "code",
   "execution_count": 50,
   "metadata": {},
   "outputs": [
    {
     "data": {
      "text/plain": [
       "DecisionTreeRegressor(random_state=42)"
      ]
     },
     "execution_count": 50,
     "metadata": {},
     "output_type": "execute_result"
    }
   ],
   "source": [
    "from sklearn.tree import DecisionTreeRegressor\n",
    "dt = DecisionTreeRegressor(random_state=42)\n",
    "dt.fit(X_train, y_train)"
   ]
  },
  {
   "cell_type": "code",
   "execution_count": 51,
   "metadata": {},
   "outputs": [
    {
     "name": "stdout",
     "output_type": "stream",
     "text": [
      "Feature importances:\n",
      "[0.12115018 0.25219011 0.02330227 0.02042621 0.56425242 0.01867882]\n"
     ]
    }
   ],
   "source": [
    "print(\"Feature importances:\\n{}\".format(dt.feature_importances_))"
   ]
  },
  {
   "cell_type": "code",
   "execution_count": 52,
   "metadata": {},
   "outputs": [
    {
     "data": {
      "image/png": "[encoded data removed]",
      "text/plain": [
       "<Figure size 576x432 with 1 Axes>"
      ]
     },
     "metadata": {},
     "output_type": "display_data"
    }
   ],
   "source": [
    "sns.set(style=\"white\")\n",
    "\n",
    "def plot_feature_importances_clv(model):\n",
    "    plt.figure(figsize=(8,6))\n",
    "    n_features = 6\n",
    "    plt.barh(range(n_features), model.feature_importances_, align='center')\n",
    "    plt.yticks(np.arange(n_features), clv_features)\n",
    "    plt.xlabel(\"Feature importance\")\n",
    "    plt.ylabel(\"Feature\")\n",
    "    plt.ylim(-1, n_features)\n",
    "    \n",
    "plot_feature_importances_clv(dt)"
   ]
  },
  {
   "cell_type": "code",
   "execution_count": 53,
   "metadata": {},
   "outputs": [
    {
     "name": "stdout",
     "output_type": "stream",
     "text": [
      "Precision of decision tree regressor on training set: 0.766\n",
      "Precision of decision tree regressor on test set: 0.802\n"
     ]
    }
   ],
   "source": [
    "print(\"Precision of decision tree regressor on training set: {:.3f}\".format(dt.score(X_train, y_train)))\n",
    "print(\"Precision of decision tree regressor on test set: {:.3f}\".format(dt.score(X_test, y_test)))"
   ]
  },
  {
   "cell_type": "code",
   "execution_count": 54,
   "metadata": {},
   "outputs": [
    {
     "name": "stderr",
     "output_type": "stream",
     "text": [
      "C:\\ProgramData\\Anaconda3\\lib\\site-packages\\ipykernel_launcher.py:3: DataConversionWarning: A column-vector y was passed when a 1d array was expected. Please change the shape of y to (n_samples,), for example using ravel().\n",
      "  This is separate from the ipykernel package so we can avoid doing imports until\n"
     ]
    },
    {
     "data": {
      "text/plain": [
       "RandomForestRegressor(random_state=42)"
      ]
     },
     "execution_count": 54,
     "metadata": {},
     "output_type": "execute_result"
    }
   ],
   "source": [
    "from sklearn.ensemble import RandomForestRegressor\n",
    "rf = RandomForestRegressor(n_estimators=100, random_state=42)\n",
    "rf.fit(X_train, y_train)"
   ]
  },
  {
   "cell_type": "code",
   "execution_count": 55,
   "metadata": {},
   "outputs": [
    {
     "data": {
      "image/png": "[encoded data removed]",
      "text/plain": [
       "<Figure size 576x432 with 1 Axes>"
      ]
     },
     "metadata": {},
     "output_type": "display_data"
    }
   ],
   "source": [
    "plot_feature_importances_clv(rf)"
   ]
  },
  {
   "cell_type": "code",
   "execution_count": 56,
   "metadata": {},
   "outputs": [
    {
     "name": "stdout",
     "output_type": "stream",
     "text": [
      "Precision of random forest regressor on training set: 0.732\n",
      "Precision of random forest regressor on test set: 0.615\n"
     ]
    }
   ],
   "source": [
    "print(\"Precision of random forest regressor on training set: {:.3f}\".format(rf.score(X_train, y_train)))\n",
    "print(\"Precision of random forest regressor on test set: {:.3f}\".format(rf.score(X_test, y_test)))"
   ]
  },
  {
   "cell_type": "code",
   "execution_count": 57,
   "metadata": {},
   "outputs": [
    {
     "name": "stderr",
     "output_type": "stream",
     "text": [
      "C:\\ProgramData\\Anaconda3\\lib\\site-packages\\sklearn\\utils\\validation.py:72: DataConversionWarning: A column-vector y was passed when a 1d array was expected. Please change the shape of y to (n_samples, ), for example using ravel().\n",
      "  return f(**kwargs)\n"
     ]
    },
    {
     "data": {
      "text/plain": [
       "GradientBoostingRegressor(random_state=42)"
      ]
     },
     "execution_count": 57,
     "metadata": {},
     "output_type": "execute_result"
    }
   ],
   "source": [
    "from sklearn.ensemble import GradientBoostingRegressor\n",
    "gb = GradientBoostingRegressor(random_state=42)\n",
    "gb.fit(X_train, y_train)"
   ]
  },
  {
   "cell_type": "code",
   "execution_count": 58,
   "metadata": {},
   "outputs": [
    {
     "data": {
      "image/png": "[encoded data removed]",
      "text/plain": [
       "<Figure size 576x432 with 1 Axes>"
      ]
     },
     "metadata": {},
     "output_type": "display_data"
    }
   ],
   "source": [
    "plot_feature_importances_clv(gb)"
   ]
  },
  {
   "cell_type": "code",
   "execution_count": 59,
   "metadata": {},
   "outputs": [
    {
     "name": "stdout",
     "output_type": "stream",
     "text": [
      "Precision of gradient boosting regressor on training set: 0.757\n",
      "Precision of gradient boosting regressor test set: 0.638\n"
     ]
    }
   ],
   "source": [
    "print(\"Precision of gradient boosting regressor on training set: {:.3f}\".format(gb.score(X_train, y_train)))\n",
    "print(\"Precision of gradient boosting regressor test set: {:.3f}\".format(gb.score(X_test, y_test)))"
   ]
  },
  {
   "cell_type": "markdown",
   "metadata": {},
   "source": [
    "# 5. Evaluation"
   ]
  },
  {
   "cell_type": "code",
   "execution_count": 60,
   "metadata": {},
   "outputs": [],
   "source": [
    "import numpy as np\n",
    "from sklearn.metrics import mean_squared_error"
   ]
  },
  {
   "cell_type": "code",
   "execution_count": 61,
   "metadata": {},
   "outputs": [],
   "source": [
    "y_pred_regressor = regressor.predict(X_test)"
   ]
  },
  {
   "cell_type": "code",
   "execution_count": 62,
   "metadata": {},
   "outputs": [
    {
     "name": "stdout",
     "output_type": "stream",
     "text": [
      "Linear Regression R squared: 88.48%\n"
     ]
    }
   ],
   "source": [
    "regressor_r = regressor.score(X_test, y_test)\n",
    "print(\"Linear Regression R squared:\",\"{:.2%}\".format(regressor_r))"
   ]
  },
  {
   "cell_type": "code",
   "execution_count": 63,
   "metadata": {},
   "outputs": [
    {
     "name": "stdout",
     "output_type": "stream",
     "text": [
      "Linear Regression RMSE: 9206.3047\n"
     ]
    }
   ],
   "source": [
    "regressor_mse = mean_squared_error(y_pred_regressor, y_test)\n",
    "regressor_rmse = np.sqrt(regressor_mse)\n",
    "print('Linear Regression RMSE: %.4f' % regressor_rmse)"
   ]
  },
  {
   "cell_type": "code",
   "execution_count": 64,
   "metadata": {},
   "outputs": [],
   "source": [
    "y_pred_knn = knn.predict(X_test)"
   ]
  },
  {
   "cell_type": "code",
   "execution_count": 65,
   "metadata": {},
   "outputs": [
    {
     "name": "stdout",
     "output_type": "stream",
     "text": [
      "K-Nearest Neighbors R squared: 57.37%\n"
     ]
    }
   ],
   "source": [
    "knn_r = knn.score(X_test, y_test)\n",
    "print(\"K-Nearest Neighbors R squared:\",\"{:.2%}\".format(knn_r))"
   ]
  },
  {
   "cell_type": "code",
   "execution_count": 66,
   "metadata": {},
   "outputs": [
    {
     "name": "stdout",
     "output_type": "stream",
     "text": [
      "K-Nearest Neighbors RMSE: 17709.4821\n"
     ]
    }
   ],
   "source": [
    "knn_mse = mean_squared_error(y_pred_knn, y_test)\n",
    "knn_rmse = np.sqrt(knn_mse)\n",
    "print('K-Nearest Neighbors RMSE: %.4f' % knn_rmse)"
   ]
  },
  {
   "cell_type": "code",
   "execution_count": 67,
   "metadata": {},
   "outputs": [],
   "source": [
    "y_pred_svr = svr.predict(X_test)"
   ]
  },
  {
   "cell_type": "code",
   "execution_count": 68,
   "metadata": {},
   "outputs": [
    {
     "name": "stdout",
     "output_type": "stream",
     "text": [
      "Support Vector Machine R squared: -1.65%\n"
     ]
    }
   ],
   "source": [
    "svr_r = svr.score(X_test, y_test)\n",
    "print(\"Support Vector Machine R squared:\",\"{:.2%}\".format(svr_r))"
   ]
  },
  {
   "cell_type": "code",
   "execution_count": 69,
   "metadata": {},
   "outputs": [
    {
     "name": "stdout",
     "output_type": "stream",
     "text": [
      "Support Vector Machine RMSE: 27347.5640\n"
     ]
    }
   ],
   "source": [
    "svr_mse = mean_squared_error(y_pred_svr, y_test)\n",
    "svr_rmse = np.sqrt(svr_mse)\n",
    "print('Support Vector Machine RMSE: %.4f' % svr_rmse)"
   ]
  },
  {
   "cell_type": "code",
   "execution_count": 70,
   "metadata": {},
   "outputs": [],
   "source": [
    "y_pred_dt = dt.predict(X_test)"
   ]
  },
  {
   "cell_type": "code",
   "execution_count": 71,
   "metadata": {},
   "outputs": [
    {
     "name": "stdout",
     "output_type": "stream",
     "text": [
      "Decision Tree R squared: 80.18%\n"
     ]
    }
   ],
   "source": [
    "dt_r = dt.score(X_test, y_test)\n",
    "print(\"Decision Tree R squared:\",\"{:.2%}\".format(dt_r))"
   ]
  },
  {
   "cell_type": "code",
   "execution_count": 72,
   "metadata": {},
   "outputs": [
    {
     "name": "stdout",
     "output_type": "stream",
     "text": [
      "Decision Tree RMSE: 12074.2777\n"
     ]
    }
   ],
   "source": [
    "dt_mse = mean_squared_error(y_pred_dt, y_test)\n",
    "dt_rmse = np.sqrt(dt_mse)\n",
    "print('Decision Tree RMSE: %.4f' % dt_rmse)"
   ]
  },
  {
   "cell_type": "code",
   "execution_count": 73,
   "metadata": {},
   "outputs": [],
   "source": [
    "y_pred_rf = rf.predict(X_test)"
   ]
  },
  {
   "cell_type": "code",
   "execution_count": 74,
   "metadata": {},
   "outputs": [
    {
     "name": "stdout",
     "output_type": "stream",
     "text": [
      "Random Forest R squared: 61.53%\n"
     ]
    }
   ],
   "source": [
    "rf_r = rf.score(X_test, y_test)\n",
    "print(\"Random Forest R squared:\",\"{:.2%}\".format(rf_r))"
   ]
  },
  {
   "cell_type": "code",
   "execution_count": 75,
   "metadata": {},
   "outputs": [
    {
     "name": "stdout",
     "output_type": "stream",
     "text": [
      "Random Forest RMSE: 16823.0625\n"
     ]
    }
   ],
   "source": [
    "rf_mse = mean_squared_error(y_pred_rf, y_test)\n",
    "rf_rmse = np.sqrt(rf_mse)\n",
    "print('Random Forest RMSE: %.4f' % rf_rmse)"
   ]
  },
  {
   "cell_type": "code",
   "execution_count": 76,
   "metadata": {},
   "outputs": [],
   "source": [
    "y_pred_gb = gb.predict(X_test)"
   ]
  },
  {
   "cell_type": "code",
   "execution_count": 77,
   "metadata": {},
   "outputs": [
    {
     "name": "stdout",
     "output_type": "stream",
     "text": [
      "Gradient Boosting R squared: 63.75%\n"
     ]
    }
   ],
   "source": [
    "gb_r = gb.score(X_test, y_test)\n",
    "print(\"Gradient Boosting R squared:\",\"{:.2%}\".format(gb_r))"
   ]
  },
  {
   "cell_type": "code",
   "execution_count": 78,
   "metadata": {},
   "outputs": [
    {
     "name": "stdout",
     "output_type": "stream",
     "text": [
      "Gradient Boosting RMSE: 16329.9813\n"
     ]
    }
   ],
   "source": [
    "gb_mse = mean_squared_error(y_pred_gb, y_test)\n",
    "gb_rmse = np.sqrt(gb_mse)\n",
    "print('Gradient Boosting RMSE: %.4f' % gb_rmse)"
   ]
  },
  {
   "cell_type": "code",
   "execution_count": 79,
   "metadata": {},
   "outputs": [],
   "source": [
    "models = ['Linear Regression','K-Nearest Neighbors', \n",
    "          'Support Vector Machine', 'Decision Tree',\n",
    "          'Random Forest', 'Gradient Boosting']\n",
    "tests_rmse = [regressor_rmse, knn_rmse, svr_rmse, dt_rmse, rf_rmse, gb_rmse]\n",
    "tests_r = [regressor_r, knn_r, svr_r, dt_r, rf_r, gb_r]"
   ]
  },
  {
   "cell_type": "code",
   "execution_count": 80,
   "metadata": {},
   "outputs": [
    {
     "data": {
      "text/html": [
       "<div>\n",
       "<style scoped>\n",
       "    .dataframe tbody tr th:only-of-type {\n",
       "        vertical-align: middle;\n",
       "    }\n",
       "\n",
       "    .dataframe tbody tr th {\n",
       "        vertical-align: top;\n",
       "    }\n",
       "\n",
       "    .dataframe thead th {\n",
       "        text-align: right;\n",
       "    }\n",
       "</style>\n",
       "<table border=\"1\" class=\"dataframe\">\n",
       "  <thead>\n",
       "    <tr style=\"text-align: right;\">\n",
       "      <th></th>\n",
       "      <th>Algorithms</th>\n",
       "      <th>Tests RMSE</th>\n",
       "    </tr>\n",
       "  </thead>\n",
       "  <tbody>\n",
       "    <tr>\n",
       "      <th>0</th>\n",
       "      <td>Linear Regression</td>\n",
       "      <td>9206.304684</td>\n",
       "    </tr>\n",
       "    <tr>\n",
       "      <th>3</th>\n",
       "      <td>Decision Tree</td>\n",
       "      <td>12074.277717</td>\n",
       "    </tr>\n",
       "    <tr>\n",
       "      <th>5</th>\n",
       "      <td>Gradient Boosting</td>\n",
       "      <td>16329.981314</td>\n",
       "    </tr>\n",
       "    <tr>\n",
       "      <th>4</th>\n",
       "      <td>Random Forest</td>\n",
       "      <td>16823.062452</td>\n",
       "    </tr>\n",
       "    <tr>\n",
       "      <th>1</th>\n",
       "      <td>K-Nearest Neighbors</td>\n",
       "      <td>17709.482101</td>\n",
       "    </tr>\n",
       "    <tr>\n",
       "      <th>2</th>\n",
       "      <td>Support Vector Machine</td>\n",
       "      <td>27347.564014</td>\n",
       "    </tr>\n",
       "  </tbody>\n",
       "</table>\n",
       "</div>"
      ],
      "text/plain": [
       "               Algorithms    Tests RMSE\n",
       "0       Linear Regression   9206.304684\n",
       "3           Decision Tree  12074.277717\n",
       "5       Gradient Boosting  16329.981314\n",
       "4           Random Forest  16823.062452\n",
       "1     K-Nearest Neighbors  17709.482101\n",
       "2  Support Vector Machine  27347.564014"
      ]
     },
     "execution_count": 80,
     "metadata": {},
     "output_type": "execute_result"
    }
   ],
   "source": [
    "compare_models = pd.DataFrame({ \"Algorithms\": models, \"Tests RMSE\": tests_rmse })\n",
    "compare_models.sort_values(by = \"Tests RMSE\", ascending = True)"
   ]
  },
  {
   "cell_type": "code",
   "execution_count": 81,
   "metadata": {},
   "outputs": [
    {
     "data": {
      "image/png": "[encoded data removed]",
      "text/plain": [
       "<Figure size 576x576 with 1 Axes>"
      ]
     },
     "metadata": {
      "needs_background": "light"
     },
     "output_type": "display_data"
    }
   ],
   "source": [
    "import matplotlib.pyplot as plt\n",
    "%matplotlib inline\n",
    "plt.figure(figsize=(8,8))\n",
    "sns.barplot(x = \"Tests RMSE\", y = \"Algorithms\", data = compare_models)\n",
    "plt.show()"
   ]
  },
  {
   "cell_type": "code",
   "execution_count": 82,
   "metadata": {},
   "outputs": [
    {
     "data": {
      "text/html": [
       "<div>\n",
       "<style scoped>\n",
       "    .dataframe tbody tr th:only-of-type {\n",
       "        vertical-align: middle;\n",
       "    }\n",
       "\n",
       "    .dataframe tbody tr th {\n",
       "        vertical-align: top;\n",
       "    }\n",
       "\n",
       "    .dataframe thead th {\n",
       "        text-align: right;\n",
       "    }\n",
       "</style>\n",
       "<table border=\"1\" class=\"dataframe\">\n",
       "  <thead>\n",
       "    <tr style=\"text-align: right;\">\n",
       "      <th></th>\n",
       "      <th>Algorithms</th>\n",
       "      <th>Tests R Squared</th>\n",
       "    </tr>\n",
       "  </thead>\n",
       "  <tbody>\n",
       "    <tr>\n",
       "      <th>0</th>\n",
       "      <td>Linear Regression</td>\n",
       "      <td>0.884801</td>\n",
       "    </tr>\n",
       "    <tr>\n",
       "      <th>3</th>\n",
       "      <td>Decision Tree</td>\n",
       "      <td>0.801847</td>\n",
       "    </tr>\n",
       "    <tr>\n",
       "      <th>5</th>\n",
       "      <td>Gradient Boosting</td>\n",
       "      <td>0.637549</td>\n",
       "    </tr>\n",
       "    <tr>\n",
       "      <th>4</th>\n",
       "      <td>Random Forest</td>\n",
       "      <td>0.615330</td>\n",
       "    </tr>\n",
       "    <tr>\n",
       "      <th>1</th>\n",
       "      <td>K-Nearest Neighbors</td>\n",
       "      <td>0.573725</td>\n",
       "    </tr>\n",
       "    <tr>\n",
       "      <th>2</th>\n",
       "      <td>Support Vector Machine</td>\n",
       "      <td>-0.016518</td>\n",
       "    </tr>\n",
       "  </tbody>\n",
       "</table>\n",
       "</div>"
      ],
      "text/plain": [
       "               Algorithms  Tests R Squared\n",
       "0       Linear Regression         0.884801\n",
       "3           Decision Tree         0.801847\n",
       "5       Gradient Boosting         0.637549\n",
       "4           Random Forest         0.615330\n",
       "1     K-Nearest Neighbors         0.573725\n",
       "2  Support Vector Machine        -0.016518"
      ]
     },
     "execution_count": 82,
     "metadata": {},
     "output_type": "execute_result"
    }
   ],
   "source": [
    "compare_models = pd.DataFrame({ \"Algorithms\": models, \"Tests R Squared\": tests_r  })\n",
    "compare_models.sort_values(by = \"Tests R Squared\", ascending = False)"
   ]
  },
  {
   "cell_type": "code",
   "execution_count": 83,
   "metadata": {},
   "outputs": [
    {
     "data": {
      "image/png": "[encoded data removed]",
      "text/plain": [
       "<Figure size 576x576 with 1 Axes>"
      ]
     },
     "metadata": {
      "needs_background": "light"
     },
     "output_type": "display_data"
    }
   ],
   "source": [
    "import matplotlib.pyplot as plt\n",
    "%matplotlib inline\n",
    "plt.figure(figsize=(8,8))\n",
    "sns.barplot(x = \"Tests R Squared\", y = \"Algorithms\", data = compare_models)\n",
    "plt.show()"
   ]
  },
  {
   "cell_type": "markdown",
   "metadata": {},
   "source": [
    "# 6. Deployment"
   ]
  },
  {
   "cell_type": "code",
   "execution_count": 84,
   "metadata": {},
   "outputs": [
    {
     "name": "stdout",
     "output_type": "stream",
     "text": [
      "Please enter the revenue from a customer one month ago:22251\n",
      "Please enter the revenue from a customer two months ago:6900\n",
      "Please enter the revenue from a customer three months ago :18851\n",
      "Please enter the revenue from a customer four months ago:3869\n",
      "Please enter the revenue from a customer five months ago :6448\n",
      "Please enter the revenue from a customer six months ago:3541\n",
      "\u001b[1m The customer CLV is: $93,809\n"
     ]
    }
   ],
   "source": [
    "a = float(input(\"Please enter the revenue from a customer one month ago:\"))\n",
    "b = float(input(\"Please enter the revenue from a customer two months ago:\"))\n",
    "c = float(input(\"Please enter the revenue from a customer three months ago :\"))\n",
    "d = float(input(\"Please enter the revenue from a customer four months ago:\"))\n",
    "e = float(input(\"Please enter the revenue from a customer five months ago :\"))\n",
    "f = float(input(\"Please enter the revenue from a customer six months ago:\"))\n",
    "new_data = np.array([a,b,c,d,e,f]).reshape(1,-1)\n",
    "new_pred=regressor.predict(new_data)\n",
    "new_pred1 = int(new_pred[0][0])\n",
    "\n",
    "print(\"\\033[1m The customer CLV is:\", '${:,.0f}'.format(new_pred1))"
   ]
  },
  {
   "cell_type": "code",
   "execution_count": 85,
   "metadata": {},
   "outputs": [
    {
     "data": {
      "text/plain": [
       "93809"
      ]
     },
     "execution_count": 85,
     "metadata": {},
     "output_type": "execute_result"
    }
   ],
   "source": [
    "ExpectedValue = new_pred1\n",
    "ExpectedValue"
   ]
  },
  {
   "cell_type": "code",
   "execution_count": 86,
   "metadata": {},
   "outputs": [
    {
     "data": {
      "text/plain": [
       "9206"
      ]
     },
     "execution_count": 86,
     "metadata": {},
     "output_type": "execute_result"
    }
   ],
   "source": [
    "StandardError = int(regressor_rmse)\n",
    "StandardError "
   ]
  },
  {
   "cell_type": "code",
   "execution_count": 87,
   "metadata": {},
   "outputs": [],
   "source": [
    "import scipy.stats as si\n",
    "def normsinv(x):\n",
    "    x = si.norm.ppf(x)\n",
    "    return (x)"
   ]
  },
  {
   "cell_type": "code",
   "execution_count": 88,
   "metadata": {},
   "outputs": [
    {
     "data": {
      "text/plain": [
       "2.576"
      ]
     },
     "execution_count": 88,
     "metadata": {},
     "output_type": "execute_result"
    }
   ],
   "source": [
    "alpha = 1 - 0.99\n",
    "Z = round(abs(normsinv(0.5*alpha)),3)\n",
    "Z"
   ]
  },
  {
   "cell_type": "code",
   "execution_count": 89,
   "metadata": {},
   "outputs": [
    {
     "data": {
      "text/plain": [
       "117523"
      ]
     },
     "execution_count": 89,
     "metadata": {},
     "output_type": "execute_result"
    }
   ],
   "source": [
    "Upper = int(ExpectedValue + Z * StandardError)\n",
    "Upper"
   ]
  },
  {
   "cell_type": "code",
   "execution_count": 90,
   "metadata": {},
   "outputs": [
    {
     "data": {
      "text/plain": [
       "70094"
      ]
     },
     "execution_count": 90,
     "metadata": {},
     "output_type": "execute_result"
    }
   ],
   "source": [
    "Lower = int(ExpectedValue - Z * StandardError)\n",
    "Lower"
   ]
  },
  {
   "cell_type": "code",
   "execution_count": 91,
   "metadata": {},
   "outputs": [
    {
     "name": "stdout",
     "output_type": "stream",
     "text": [
      "\u001b[1m With a confidence level of 99%, the CLV of the Customer is between $70,094 and $117,523. The average value the CLV is $93,809.\n"
     ]
    }
   ],
   "source": [
    "print(\"\\033[1m With a confidence level of 99%, the CLV of the Customer is between \" '${:,.0f}'.format(Lower),\"and\",'${:,.0f}.'.format(Upper),\"The average value the CLV is \" '${:,.0f}.'.format(ExpectedValue))"
   ]
  }
 ],
 "metadata": {
  "kernelspec": {
   "display_name": "Python 3",
   "language": "python",
   "name": "python3"
  },
  "language_info": {
   "codemirror_mode": {
    "name": "ipython",
    "version": 3
   },
   "file_extension": ".py",
   "mimetype": "text/x-python",
   "name": "python",
   "nbconvert_exporter": "python",
   "pygments_lexer": "ipython3",
   "version": "3.7.4"
  }
 },
 "nbformat": 4,
 "nbformat_minor": 4
}
